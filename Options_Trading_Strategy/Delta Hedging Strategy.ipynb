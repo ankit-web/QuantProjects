{
 "cells": [
  {
   "cell_type": "markdown",
   "metadata": {},
   "source": [
    "# Notebook Instructions\n",
    "<i>You can run the notebook document sequentially (one cell a time) by pressing <b> shift + enter</b>. While a cell is running, a [*] will display on the left. When it has been run, a number will display indicating the order in which it was run in the notebook [8].</i>\n",
    "\n",
    "<i>Enter edit mode by pressing <b>`Enter`</b> or using the mouse to click on a cell's editor area. Edit mode is indicated by a green cell border and a prompt showing in the editor area.</i>"
   ]
  },
  {
   "cell_type": "markdown",
   "metadata": {},
   "source": [
    "# Delta Hedging\n",
    "\n",
    "Delta is the change in the price of an option for a unit change in the price of the underlying asset. With the changes in the price of the underlying, the value of the portfolio changes. Hence, Delta hedging is done to protect the portfolio against any changes in the price of the underlying asset."
   ]
  },
  {
   "cell_type": "markdown",
   "metadata": {},
   "source": [
    "## Methodology\n",
    "\n",
    "The steps required to make the portfolio of a long call option Delta neutral are as follows:\n",
    "\n",
    "5. Determine the Delta of the call option\n",
    "6. Buy or sell the futures to make Delta close to zero"
   ]
  },
  {
   "cell_type": "markdown",
   "metadata": {},
   "source": [
    "## Import the libraries"
   ]
  },
  {
   "cell_type": "code",
   "execution_count": 1,
   "metadata": {},
   "outputs": [],
   "source": [
    "# Data manipulation\n",
    "import numpy as np\n",
    "import pandas as pd\n",
    "import datetime\n",
    "\n",
    "# To calculate Greeks\n",
    "import mibian"
   ]
  },
  {
   "cell_type": "markdown",
   "metadata": {},
   "source": [
    "## Read data\n",
    "\n",
    "Here we collect the  data from <a href=\"https://nseindia.com/products/content/derivatives/equities/historical_fo.htm\">nseindia</a> and save it as a CSV File. \n",
    "\n",
    "Then we do the following tasks:\n",
    "1. Use pandas to import the CSV file as a data frame\n",
    "1. Only keep data of the 10000 strike call and columns which are relevant\n",
    "2. Only keep top 2 rows of data to simplify and learn the process of Delta hedge"
   ]
  },
  {
   "cell_type": "code",
   "execution_count": 2,
   "metadata": {},
   "outputs": [
    {
     "data": {
      "text/html": [
       "<div>\n",
       "<style scoped>\n",
       "    .dataframe tbody tr th:only-of-type {\n",
       "        vertical-align: middle;\n",
       "    }\n",
       "\n",
       "    .dataframe tbody tr th {\n",
       "        vertical-align: top;\n",
       "    }\n",
       "\n",
       "    .dataframe thead th {\n",
       "        text-align: right;\n",
       "    }\n",
       "</style>\n",
       "<table border=\"1\" class=\"dataframe\">\n",
       "  <thead>\n",
       "    <tr style=\"text-align: right;\">\n",
       "      <th></th>\n",
       "      <th>Symbol</th>\n",
       "      <th>Date</th>\n",
       "      <th>Expiry</th>\n",
       "      <th>Option Type</th>\n",
       "      <th>Strike Price</th>\n",
       "      <th>Close</th>\n",
       "      <th>futures_price</th>\n",
       "    </tr>\n",
       "  </thead>\n",
       "  <tbody>\n",
       "    <tr>\n",
       "      <th>3281</th>\n",
       "      <td>NIFTY</td>\n",
       "      <td>03-Oct-17</td>\n",
       "      <td>28-Dec-17</td>\n",
       "      <td>CE</td>\n",
       "      <td>10000</td>\n",
       "      <td>184.20</td>\n",
       "      <td>9934.00</td>\n",
       "    </tr>\n",
       "    <tr>\n",
       "      <th>3406</th>\n",
       "      <td>NIFTY</td>\n",
       "      <td>04-Oct-17</td>\n",
       "      <td>28-Dec-17</td>\n",
       "      <td>CE</td>\n",
       "      <td>10000</td>\n",
       "      <td>208.95</td>\n",
       "      <td>10004.25</td>\n",
       "    </tr>\n",
       "  </tbody>\n",
       "</table>\n",
       "</div>"
      ],
      "text/plain": [
       "     Symbol       Date     Expiry Option Type  Strike Price   Close  \\\n",
       "3281  NIFTY  03-Oct-17  28-Dec-17          CE         10000  184.20   \n",
       "3406  NIFTY  04-Oct-17  28-Dec-17          CE         10000  208.95   \n",
       "\n",
       "      futures_price  \n",
       "3281        9934.00  \n",
       "3406       10004.25  "
      ]
     },
     "execution_count": 2,
     "metadata": {},
     "output_type": "execute_result"
    }
   ],
   "source": [
    "def read_data(inst_name):\n",
    "    opt = pd.read_csv(inst_name  + \".csv\")            \n",
    "    opt = opt[(opt['Option Type'] == 'CE') & (opt['Strike Price'] == 10000)]        \n",
    "    opt = opt[['Symbol','Date','Expiry','Option Type','Strike Price','Close','futures_price']]         \n",
    "    return opt\n",
    "\n",
    "Nifty_Opt = read_data('../data_modules/NIFTY_GS_data')\n",
    "Nifty_Opt = Nifty_Opt[:2]\n",
    "Nifty_Opt.head()"
   ]
  },
  {
   "cell_type": "markdown",
   "metadata": {},
   "source": [
    "## Calculate time to expiry\n",
    "\n",
    "We convert the trading date ('Date') and expiry date ('Expiry') into datetime object and then, calculate and store the time to expiry in days. "
   ]
  },
  {
   "cell_type": "code",
   "execution_count": 3,
   "metadata": {},
   "outputs": [
    {
     "data": {
      "text/html": [
       "<div>\n",
       "<style scoped>\n",
       "    .dataframe tbody tr th:only-of-type {\n",
       "        vertical-align: middle;\n",
       "    }\n",
       "\n",
       "    .dataframe tbody tr th {\n",
       "        vertical-align: top;\n",
       "    }\n",
       "\n",
       "    .dataframe thead th {\n",
       "        text-align: right;\n",
       "    }\n",
       "</style>\n",
       "<table border=\"1\" class=\"dataframe\">\n",
       "  <thead>\n",
       "    <tr style=\"text-align: right;\">\n",
       "      <th></th>\n",
       "      <th>Symbol</th>\n",
       "      <th>Date</th>\n",
       "      <th>Expiry</th>\n",
       "      <th>Option Type</th>\n",
       "      <th>Strike Price</th>\n",
       "      <th>Close</th>\n",
       "      <th>futures_price</th>\n",
       "      <th>time_to_expiry</th>\n",
       "    </tr>\n",
       "  </thead>\n",
       "  <tbody>\n",
       "    <tr>\n",
       "      <th>3281</th>\n",
       "      <td>NIFTY</td>\n",
       "      <td>2017-10-03</td>\n",
       "      <td>2017-12-28</td>\n",
       "      <td>CE</td>\n",
       "      <td>10000</td>\n",
       "      <td>184.20</td>\n",
       "      <td>9934.00</td>\n",
       "      <td>86</td>\n",
       "    </tr>\n",
       "    <tr>\n",
       "      <th>3406</th>\n",
       "      <td>NIFTY</td>\n",
       "      <td>2017-10-04</td>\n",
       "      <td>2017-12-28</td>\n",
       "      <td>CE</td>\n",
       "      <td>10000</td>\n",
       "      <td>208.95</td>\n",
       "      <td>10004.25</td>\n",
       "      <td>85</td>\n",
       "    </tr>\n",
       "  </tbody>\n",
       "</table>\n",
       "</div>"
      ],
      "text/plain": [
       "     Symbol       Date     Expiry Option Type  Strike Price   Close  \\\n",
       "3281  NIFTY 2017-10-03 2017-12-28          CE         10000  184.20   \n",
       "3406  NIFTY 2017-10-04 2017-12-28          CE         10000  208.95   \n",
       "\n",
       "      futures_price  time_to_expiry  \n",
       "3281        9934.00              86  \n",
       "3406       10004.25              85  "
      ]
     },
     "execution_count": 3,
     "metadata": {},
     "output_type": "execute_result"
    }
   ],
   "source": [
    "Nifty_Opt.Expiry = pd.to_datetime(Nifty_Opt.Expiry)\n",
    "Nifty_Opt.Date = pd.to_datetime(Nifty_Opt.Date)\n",
    "Nifty_Opt['time_to_expiry']= (Nifty_Opt.Expiry - Nifty_Opt.Date).dt.days            \n",
    "Nifty_Opt.head()    "
   ]
  },
  {
   "cell_type": "markdown",
   "metadata": {},
   "source": [
    "The time to expiry on 03 October and 04 October is 86 and 85 days respectively."
   ]
  },
  {
   "cell_type": "markdown",
   "metadata": {},
   "source": [
    "## Compute implied volatility and Delta\n",
    "\n",
    "The implied volatility is computed using the Black Scholes (BS) function from the mibian library. The BS function requires five input parameters, the current value of the stock or index, the strike price, the risk-free rate, the time to expiry, and the option price to return the implied volatility. \n",
    "\n",
    "Then, we will use implied volatility as the input to compute the Delta of the call option."
   ]
  },
  {
   "cell_type": "code",
   "execution_count": 4,
   "metadata": {},
   "outputs": [
    {
     "data": {
      "text/html": [
       "<div>\n",
       "<style scoped>\n",
       "    .dataframe tbody tr th:only-of-type {\n",
       "        vertical-align: middle;\n",
       "    }\n",
       "\n",
       "    .dataframe tbody tr th {\n",
       "        vertical-align: top;\n",
       "    }\n",
       "\n",
       "    .dataframe thead th {\n",
       "        text-align: right;\n",
       "    }\n",
       "</style>\n",
       "<table border=\"1\" class=\"dataframe\">\n",
       "  <thead>\n",
       "    <tr style=\"text-align: right;\">\n",
       "      <th></th>\n",
       "      <th>Symbol</th>\n",
       "      <th>Date</th>\n",
       "      <th>Expiry</th>\n",
       "      <th>Option Type</th>\n",
       "      <th>Strike Price</th>\n",
       "      <th>Close</th>\n",
       "      <th>futures_price</th>\n",
       "      <th>time_to_expiry</th>\n",
       "      <th>IV</th>\n",
       "    </tr>\n",
       "  </thead>\n",
       "  <tbody>\n",
       "    <tr>\n",
       "      <th>3281</th>\n",
       "      <td>NIFTY</td>\n",
       "      <td>2017-10-03</td>\n",
       "      <td>2017-12-28</td>\n",
       "      <td>CE</td>\n",
       "      <td>10000</td>\n",
       "      <td>184.20</td>\n",
       "      <td>9934.00</td>\n",
       "      <td>86</td>\n",
       "      <td>11.169434</td>\n",
       "    </tr>\n",
       "    <tr>\n",
       "      <th>3406</th>\n",
       "      <td>NIFTY</td>\n",
       "      <td>2017-10-04</td>\n",
       "      <td>2017-12-28</td>\n",
       "      <td>CE</td>\n",
       "      <td>10000</td>\n",
       "      <td>208.95</td>\n",
       "      <td>10004.25</td>\n",
       "      <td>85</td>\n",
       "      <td>10.741711</td>\n",
       "    </tr>\n",
       "  </tbody>\n",
       "</table>\n",
       "</div>"
      ],
      "text/plain": [
       "     Symbol       Date     Expiry Option Type  Strike Price   Close  \\\n",
       "3281  NIFTY 2017-10-03 2017-12-28          CE         10000  184.20   \n",
       "3406  NIFTY 2017-10-04 2017-12-28          CE         10000  208.95   \n",
       "\n",
       "      futures_price  time_to_expiry         IV  \n",
       "3281        9934.00              86  11.169434  \n",
       "3406       10004.25              85  10.741711  "
      ]
     },
     "execution_count": 4,
     "metadata": {},
     "output_type": "execute_result"
    }
   ],
   "source": [
    "def implied_volatility_options(opt):\n",
    "    opt['IV'] = np.nan        \n",
    "    for i in range(0,len(opt)):                 \n",
    "        opt.iloc[i,opt.columns.get_loc('IV')] = mibian.BS([opt.iloc[i]['futures_price'], \n",
    "                                                               opt.iloc[i]['Strike Price'], \n",
    "                                                               0, \n",
    "                                                               opt.iloc[i]['time_to_expiry']], \n",
    "                                                              callPrice=opt.iloc[i]['Close']\n",
    "                                                             ).impliedVolatility        \n",
    "    return opt  \n",
    "\n",
    "Nifty_Opt = implied_volatility_options(Nifty_Opt)    \n",
    "Nifty_Opt.head()"
   ]
  },
  {
   "cell_type": "code",
   "execution_count": 5,
   "metadata": {
    "scrolled": true
   },
   "outputs": [
    {
     "data": {
      "text/html": [
       "<div>\n",
       "<style scoped>\n",
       "    .dataframe tbody tr th:only-of-type {\n",
       "        vertical-align: middle;\n",
       "    }\n",
       "\n",
       "    .dataframe tbody tr th {\n",
       "        vertical-align: top;\n",
       "    }\n",
       "\n",
       "    .dataframe thead th {\n",
       "        text-align: right;\n",
       "    }\n",
       "</style>\n",
       "<table border=\"1\" class=\"dataframe\">\n",
       "  <thead>\n",
       "    <tr style=\"text-align: right;\">\n",
       "      <th></th>\n",
       "      <th>Symbol</th>\n",
       "      <th>Date</th>\n",
       "      <th>Expiry</th>\n",
       "      <th>Option Type</th>\n",
       "      <th>Strike Price</th>\n",
       "      <th>Close</th>\n",
       "      <th>futures_price</th>\n",
       "      <th>time_to_expiry</th>\n",
       "      <th>IV</th>\n",
       "      <th>delta</th>\n",
       "    </tr>\n",
       "  </thead>\n",
       "  <tbody>\n",
       "    <tr>\n",
       "      <th>3281</th>\n",
       "      <td>NIFTY</td>\n",
       "      <td>2017-10-03</td>\n",
       "      <td>2017-12-28</td>\n",
       "      <td>CE</td>\n",
       "      <td>10000</td>\n",
       "      <td>184.20</td>\n",
       "      <td>9934.00</td>\n",
       "      <td>86</td>\n",
       "      <td>11.169434</td>\n",
       "      <td>0.462146</td>\n",
       "    </tr>\n",
       "    <tr>\n",
       "      <th>3406</th>\n",
       "      <td>NIFTY</td>\n",
       "      <td>2017-10-04</td>\n",
       "      <td>2017-12-28</td>\n",
       "      <td>CE</td>\n",
       "      <td>10000</td>\n",
       "      <td>208.95</td>\n",
       "      <td>10004.25</td>\n",
       "      <td>85</td>\n",
       "      <td>10.741711</td>\n",
       "      <td>0.513607</td>\n",
       "    </tr>\n",
       "  </tbody>\n",
       "</table>\n",
       "</div>"
      ],
      "text/plain": [
       "     Symbol       Date     Expiry Option Type  Strike Price   Close  \\\n",
       "3281  NIFTY 2017-10-03 2017-12-28          CE         10000  184.20   \n",
       "3406  NIFTY 2017-10-04 2017-12-28          CE         10000  208.95   \n",
       "\n",
       "      futures_price  time_to_expiry         IV     delta  \n",
       "3281        9934.00              86  11.169434  0.462146  \n",
       "3406       10004.25              85  10.741711  0.513607  "
      ]
     },
     "execution_count": 5,
     "metadata": {},
     "output_type": "execute_result"
    }
   ],
   "source": [
    "def delta_options(opt):\n",
    "    opt['delta'] = np.nan    \n",
    "    for i in range(0,len(opt)):         \n",
    "        if opt.iloc[i]['Option Type'] == 'CE':            \n",
    "            opt.iloc[i,opt.columns.get_loc('delta')] = mibian.BS([opt.iloc[i]['futures_price'], \n",
    "                                                               opt.iloc[i]['Strike Price'], \n",
    "                                                               0, \n",
    "                                                               opt.iloc[i]['time_to_expiry']], \n",
    "                                                              volatility=opt.iloc[i]['IV']\n",
    "                                                             ).callDelta        \n",
    "    return opt  \n",
    "\n",
    "Nifty_Opt = delta_options(Nifty_Opt)    \n",
    "Nifty_Opt"
   ]
  },
  {
   "cell_type": "markdown",
   "metadata": {
    "collapsed": true
   },
   "source": [
    "The Delta for 10000 strike call is 0.46 on 03 October. We will multiply this Delta value with the lot size of Nifty (75) to get the total Delta value."
   ]
  },
  {
   "cell_type": "code",
   "execution_count": 6,
   "metadata": {},
   "outputs": [
    {
     "data": {
      "text/html": [
       "<div>\n",
       "<style scoped>\n",
       "    .dataframe tbody tr th:only-of-type {\n",
       "        vertical-align: middle;\n",
       "    }\n",
       "\n",
       "    .dataframe tbody tr th {\n",
       "        vertical-align: top;\n",
       "    }\n",
       "\n",
       "    .dataframe thead th {\n",
       "        text-align: right;\n",
       "    }\n",
       "</style>\n",
       "<table border=\"1\" class=\"dataframe\">\n",
       "  <thead>\n",
       "    <tr style=\"text-align: right;\">\n",
       "      <th></th>\n",
       "      <th>Symbol</th>\n",
       "      <th>Date</th>\n",
       "      <th>Expiry</th>\n",
       "      <th>Option Type</th>\n",
       "      <th>Strike Price</th>\n",
       "      <th>Close</th>\n",
       "      <th>futures_price</th>\n",
       "      <th>time_to_expiry</th>\n",
       "      <th>IV</th>\n",
       "      <th>delta</th>\n",
       "      <th>total_delta</th>\n",
       "    </tr>\n",
       "  </thead>\n",
       "  <tbody>\n",
       "    <tr>\n",
       "      <th>3281</th>\n",
       "      <td>NIFTY</td>\n",
       "      <td>2017-10-03</td>\n",
       "      <td>2017-12-28</td>\n",
       "      <td>CE</td>\n",
       "      <td>10000</td>\n",
       "      <td>184.20</td>\n",
       "      <td>9934.00</td>\n",
       "      <td>86</td>\n",
       "      <td>11.169434</td>\n",
       "      <td>0.462146</td>\n",
       "      <td>34.660955</td>\n",
       "    </tr>\n",
       "    <tr>\n",
       "      <th>3406</th>\n",
       "      <td>NIFTY</td>\n",
       "      <td>2017-10-04</td>\n",
       "      <td>2017-12-28</td>\n",
       "      <td>CE</td>\n",
       "      <td>10000</td>\n",
       "      <td>208.95</td>\n",
       "      <td>10004.25</td>\n",
       "      <td>85</td>\n",
       "      <td>10.741711</td>\n",
       "      <td>0.513607</td>\n",
       "      <td>38.520558</td>\n",
       "    </tr>\n",
       "  </tbody>\n",
       "</table>\n",
       "</div>"
      ],
      "text/plain": [
       "     Symbol       Date     Expiry Option Type  Strike Price   Close  \\\n",
       "3281  NIFTY 2017-10-03 2017-12-28          CE         10000  184.20   \n",
       "3406  NIFTY 2017-10-04 2017-12-28          CE         10000  208.95   \n",
       "\n",
       "      futures_price  time_to_expiry         IV     delta  total_delta  \n",
       "3281        9934.00              86  11.169434  0.462146    34.660955  \n",
       "3406       10004.25              85  10.741711  0.513607    38.520558  "
      ]
     },
     "execution_count": 6,
     "metadata": {},
     "output_type": "execute_result"
    }
   ],
   "source": [
    "Nifty_Lot_Size = 75\n",
    "Nifty_Opt['total_delta'] = Nifty_Opt['delta'] * Nifty_Lot_Size\n",
    "Nifty_Opt"
   ]
  },
  {
   "cell_type": "markdown",
   "metadata": {
    "collapsed": true
   },
   "source": [
    "## Delta hedging with Nifty futures\n",
    "\n",
    "We will determine the number of Nifty futures to buy to make the portfolio of call options Delta neutral. The total Delta of the call options is 34.66. Thus, we would sell 34.66 shares of Nifty futures to Delta hedge the portfolio of call options. Since we can't sell any arbitrary number of share, we will round the number of Nifty futures required to Delta hedge to a multiple of 5.\n",
    "\n",
    "<i>Note: Nifty futures trade in the multiples of 75, therefore, practically we should round the futures to a multiple of 75.</i>"
   ]
  },
  {
   "cell_type": "code",
   "execution_count": 7,
   "metadata": {},
   "outputs": [
    {
     "data": {
      "text/html": [
       "<div>\n",
       "<style scoped>\n",
       "    .dataframe tbody tr th:only-of-type {\n",
       "        vertical-align: middle;\n",
       "    }\n",
       "\n",
       "    .dataframe tbody tr th {\n",
       "        vertical-align: top;\n",
       "    }\n",
       "\n",
       "    .dataframe thead th {\n",
       "        text-align: right;\n",
       "    }\n",
       "</style>\n",
       "<table border=\"1\" class=\"dataframe\">\n",
       "  <thead>\n",
       "    <tr style=\"text-align: right;\">\n",
       "      <th></th>\n",
       "      <th>Symbol</th>\n",
       "      <th>Date</th>\n",
       "      <th>Expiry</th>\n",
       "      <th>Option Type</th>\n",
       "      <th>Strike Price</th>\n",
       "      <th>Close</th>\n",
       "      <th>futures_price</th>\n",
       "      <th>time_to_expiry</th>\n",
       "      <th>IV</th>\n",
       "      <th>delta</th>\n",
       "      <th>total_delta</th>\n",
       "      <th>Fut_Quantity</th>\n",
       "    </tr>\n",
       "  </thead>\n",
       "  <tbody>\n",
       "    <tr>\n",
       "      <th>3281</th>\n",
       "      <td>NIFTY</td>\n",
       "      <td>2017-10-03</td>\n",
       "      <td>2017-12-28</td>\n",
       "      <td>CE</td>\n",
       "      <td>10000</td>\n",
       "      <td>184.20</td>\n",
       "      <td>9934.00</td>\n",
       "      <td>86</td>\n",
       "      <td>11.169434</td>\n",
       "      <td>0.462146</td>\n",
       "      <td>34.660955</td>\n",
       "      <td>-35.0</td>\n",
       "    </tr>\n",
       "    <tr>\n",
       "      <th>3406</th>\n",
       "      <td>NIFTY</td>\n",
       "      <td>2017-10-04</td>\n",
       "      <td>2017-12-28</td>\n",
       "      <td>CE</td>\n",
       "      <td>10000</td>\n",
       "      <td>208.95</td>\n",
       "      <td>10004.25</td>\n",
       "      <td>85</td>\n",
       "      <td>10.741711</td>\n",
       "      <td>0.513607</td>\n",
       "      <td>38.520558</td>\n",
       "      <td>-40.0</td>\n",
       "    </tr>\n",
       "  </tbody>\n",
       "</table>\n",
       "</div>"
      ],
      "text/plain": [
       "     Symbol       Date     Expiry Option Type  Strike Price   Close  \\\n",
       "3281  NIFTY 2017-10-03 2017-12-28          CE         10000  184.20   \n",
       "3406  NIFTY 2017-10-04 2017-12-28          CE         10000  208.95   \n",
       "\n",
       "      futures_price  time_to_expiry         IV     delta  total_delta  \\\n",
       "3281        9934.00              86  11.169434  0.462146    34.660955   \n",
       "3406       10004.25              85  10.741711  0.513607    38.520558   \n",
       "\n",
       "      Fut_Quantity  \n",
       "3281         -35.0  \n",
       "3406         -40.0  "
      ]
     },
     "execution_count": 7,
     "metadata": {},
     "output_type": "execute_result"
    }
   ],
   "source": [
    "Nifty_Opt['Fut_Quantity'] = -Nifty_Opt.total_delta // 5 * 5\n",
    "Nifty_Opt"
   ]
  },
  {
   "cell_type": "markdown",
   "metadata": {
    "collapsed": true
   },
   "source": [
    "We have to sell 35 shares of Nifty futures to make the portfolio Delta neutral. Therefore, the portfolio has the following positions:\n",
    "1. Long 75, Nifty 10000 strike call \n",
    "2. Short 35, Nifty futures"
   ]
  },
  {
   "cell_type": "markdown",
   "metadata": {},
   "source": [
    "## Futures PnL\n",
    "\n",
    "The futures PnL is computed by taking the difference between the futures price and multiplying it by the number of the futures contract."
   ]
  },
  {
   "cell_type": "code",
   "execution_count": 8,
   "metadata": {},
   "outputs": [
    {
     "data": {
      "text/plain": [
       "3281        NaN\n",
       "3406   -2458.75\n",
       "dtype: float64"
      ]
     },
     "execution_count": 8,
     "metadata": {},
     "output_type": "execute_result"
    }
   ],
   "source": [
    "futures_pnl = (Nifty_Opt.futures_price - Nifty_Opt.futures_price.shift(1)) * Nifty_Opt.Fut_Quantity.shift(1)\n",
    "futures_pnl"
   ]
  },
  {
   "cell_type": "markdown",
   "metadata": {},
   "source": [
    "## Call PnL\n",
    "\n",
    "Similar to futures PnL, the call PnL is computed by taking the difference between the call option price data and multiplying with the Nifty lot size."
   ]
  },
  {
   "cell_type": "code",
   "execution_count": 9,
   "metadata": {},
   "outputs": [
    {
     "data": {
      "text/plain": [
       "3281        NaN\n",
       "3406    1856.25\n",
       "Name: Close, dtype: float64"
      ]
     },
     "execution_count": 9,
     "metadata": {},
     "output_type": "execute_result"
    }
   ],
   "source": [
    "call_pnl = (Nifty_Opt.Close - Nifty_Opt.Close.shift(1))  * Nifty_Lot_Size\n",
    "call_pnl"
   ]
  },
  {
   "cell_type": "markdown",
   "metadata": {},
   "source": [
    "## Portfolio PnL\n",
    "\n",
    "The portfolio PnL is computed by add call and futures PnL."
   ]
  },
  {
   "cell_type": "code",
   "execution_count": 10,
   "metadata": {},
   "outputs": [
    {
     "data": {
      "text/plain": [
       "3281      NaN\n",
       "3406   -602.5\n",
       "dtype: float64"
      ]
     },
     "execution_count": 10,
     "metadata": {},
     "output_type": "execute_result"
    }
   ],
   "source": [
    "call_pnl + futures_pnl"
   ]
  },
  {
   "cell_type": "markdown",
   "metadata": {},
   "source": [
    "The profit on call option is approximately INR 1860 and loss on the Nifty futures is approximately INR 2460. Thus, the portfolio PnL is loss of approximately INR 600. The loss of INR 600 is due to the effect of other Greeks such as Gamma and Theta.\n",
    "Coming up, further in this section, how we can exploit Delta neutrality to gain profits by Gamma scalping.\n",
    "<BR>"
   ]
  }
 ],
 "metadata": {
  "kernelspec": {
   "display_name": "Python 3",
   "language": "python",
   "name": "python3"
  },
  "language_info": {
   "codemirror_mode": {
    "name": "ipython",
    "version": 3
   },
   "file_extension": ".py",
   "mimetype": "text/x-python",
   "name": "python",
   "nbconvert_exporter": "python",
   "pygments_lexer": "ipython3",
   "version": "3.7.4"
  }
 },
 "nbformat": 4,
 "nbformat_minor": 2
}
