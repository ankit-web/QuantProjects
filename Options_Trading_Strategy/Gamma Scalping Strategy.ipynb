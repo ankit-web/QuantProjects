{
 "cells": [
  {
   "cell_type": "markdown",
   "metadata": {},
   "source": [
    "# Notebook Instructions\n",
    "<i>You can run the notebook document sequentially (one cell a time) by pressing <b> shift + enter</b>. While a cell is running, a [*] will display on the left. When it has been run, a number will display indicating the order in which it was run in the notebook [8].</i>\n",
    "\n",
    "<i>Enter edit mode by pressing <b>`Enter`</b> or using the mouse to click on a cell's editor area. Edit mode is indicated by a green cell border and a prompt showing in the editor area.</i>"
   ]
  },
  {
   "cell_type": "markdown",
   "metadata": {},
   "source": [
    "# Gamma Scalping on Nifty\n",
    "\n",
    "Gamma scalping is the process of adjusting Deltas of a long Gamma portfolio in an attempt to cover the time decay of the position."
   ]
  },
  {
   "cell_type": "markdown",
   "metadata": {},
   "source": [
    "## Methodology\n",
    "\n",
    "Let's determine the data and the steps required to implement this strategy.\n",
    "\n",
    "1. ATM strike price \n",
    "2. Buy a straddle (Long ATM Call + Long ATM Put)\n",
    "5. Delta of the straddle\n",
    "\n",
    "Gamma scalping strategy\n",
    "6. Nifty rises: the straddle position gets positive Delta (adjustment: sell Nifty futures)\n",
    "6. Nifty falls: the straddle position gets negative Delta (adjustment: buy Nifty futures) \n",
    "\n",
    "Let's get started!!!\n",
    "\n"
   ]
  },
  {
   "cell_type": "markdown",
   "metadata": {},
   "source": [
    "## Import the libraries"
   ]
  },
  {
   "cell_type": "code",
   "execution_count": 1,
   "metadata": {},
   "outputs": [],
   "source": [
    "# Data manipulation\n",
    "import numpy as np\n",
    "import pandas as pd\n",
    "import datetime\n",
    "\n",
    "# To calculate Greeks\n",
    "import mibian\n",
    "\n",
    "# For Plotting\n",
    "import matplotlib.pyplot as plt"
   ]
  },
  {
   "cell_type": "markdown",
   "metadata": {},
   "source": [
    "## Read data\n",
    "\n",
    "Here we collect the  data from <a href=\"https://nseindia.com/products/content/derivatives/equities/historical_fo.htm\">nseindia</a> and save it as a CSV File. \n",
    "\n",
    "Then we do the following tasks:\n",
    "1. Use pandas to import the CSV file as a data frame\n",
    "1. Remove strike price of the option which doesn't have Open Interest\n",
    "1. Only keep columns which are relevant for the strategy"
   ]
  },
  {
   "cell_type": "code",
   "execution_count": 2,
   "metadata": {},
   "outputs": [
    {
     "data": {
      "text/html": [
       "<div>\n",
       "<style scoped>\n",
       "    .dataframe tbody tr th:only-of-type {\n",
       "        vertical-align: middle;\n",
       "    }\n",
       "\n",
       "    .dataframe tbody tr th {\n",
       "        vertical-align: top;\n",
       "    }\n",
       "\n",
       "    .dataframe thead th {\n",
       "        text-align: right;\n",
       "    }\n",
       "</style>\n",
       "<table border=\"1\" class=\"dataframe\">\n",
       "  <thead>\n",
       "    <tr style=\"text-align: right;\">\n",
       "      <th></th>\n",
       "      <th>Symbol</th>\n",
       "      <th>Date</th>\n",
       "      <th>Expiry</th>\n",
       "      <th>Option Type</th>\n",
       "      <th>Strike Price</th>\n",
       "      <th>Close</th>\n",
       "      <th>futures_price</th>\n",
       "    </tr>\n",
       "  </thead>\n",
       "  <tbody>\n",
       "    <tr>\n",
       "      <th>1</th>\n",
       "      <td>NIFTY</td>\n",
       "      <td>03-Oct-17</td>\n",
       "      <td>28-Dec-17</td>\n",
       "      <td>PE</td>\n",
       "      <td>8800</td>\n",
       "      <td>119.7</td>\n",
       "      <td>9934.0</td>\n",
       "    </tr>\n",
       "    <tr>\n",
       "      <th>3</th>\n",
       "      <td>NIFTY</td>\n",
       "      <td>03-Oct-17</td>\n",
       "      <td>28-Dec-17</td>\n",
       "      <td>PE</td>\n",
       "      <td>8600</td>\n",
       "      <td>41.3</td>\n",
       "      <td>9934.0</td>\n",
       "    </tr>\n",
       "    <tr>\n",
       "      <th>5</th>\n",
       "      <td>NIFTY</td>\n",
       "      <td>03-Oct-17</td>\n",
       "      <td>28-Dec-17</td>\n",
       "      <td>PE</td>\n",
       "      <td>8400</td>\n",
       "      <td>66.4</td>\n",
       "      <td>9934.0</td>\n",
       "    </tr>\n",
       "    <tr>\n",
       "      <th>7</th>\n",
       "      <td>NIFTY</td>\n",
       "      <td>03-Oct-17</td>\n",
       "      <td>28-Dec-17</td>\n",
       "      <td>PE</td>\n",
       "      <td>8500</td>\n",
       "      <td>17.2</td>\n",
       "      <td>9934.0</td>\n",
       "    </tr>\n",
       "    <tr>\n",
       "      <th>9</th>\n",
       "      <td>NIFTY</td>\n",
       "      <td>03-Oct-17</td>\n",
       "      <td>28-Dec-17</td>\n",
       "      <td>PE</td>\n",
       "      <td>8300</td>\n",
       "      <td>18.0</td>\n",
       "      <td>9934.0</td>\n",
       "    </tr>\n",
       "  </tbody>\n",
       "</table>\n",
       "</div>"
      ],
      "text/plain": [
       "  Symbol       Date     Expiry Option Type  Strike Price  Close  futures_price\n",
       "1  NIFTY  03-Oct-17  28-Dec-17          PE          8800  119.7         9934.0\n",
       "3  NIFTY  03-Oct-17  28-Dec-17          PE          8600   41.3         9934.0\n",
       "5  NIFTY  03-Oct-17  28-Dec-17          PE          8400   66.4         9934.0\n",
       "7  NIFTY  03-Oct-17  28-Dec-17          PE          8500   17.2         9934.0\n",
       "9  NIFTY  03-Oct-17  28-Dec-17          PE          8300   18.0         9934.0"
      ]
     },
     "execution_count": 2,
     "metadata": {},
     "output_type": "execute_result"
    }
   ],
   "source": [
    "def read_data(inst_name):\n",
    "    opt = pd.read_csv(inst_name  + \".csv\")            \n",
    "    opt = opt[opt['Open Int'] != 0]    \n",
    "    opt = opt[['Symbol','Date','Expiry','Option Type','Strike Price','Close','futures_price']]         \n",
    "    return opt\n",
    "\n",
    "Nifty_Opt = read_data('../data_modules/NIFTY_GS_data')\n",
    "Nifty_Opt.head()"
   ]
  },
  {
   "cell_type": "markdown",
   "metadata": {},
   "source": [
    "## Calculate time to expiry\n",
    "\n",
    "We convert the trading date ('Date') and expiry date ('Expiry') into datetime object and then, calculate and store the time to expiry in days. "
   ]
  },
  {
   "cell_type": "code",
   "execution_count": 3,
   "metadata": {
    "scrolled": true
   },
   "outputs": [
    {
     "data": {
      "text/html": [
       "<div>\n",
       "<style scoped>\n",
       "    .dataframe tbody tr th:only-of-type {\n",
       "        vertical-align: middle;\n",
       "    }\n",
       "\n",
       "    .dataframe tbody tr th {\n",
       "        vertical-align: top;\n",
       "    }\n",
       "\n",
       "    .dataframe thead th {\n",
       "        text-align: right;\n",
       "    }\n",
       "</style>\n",
       "<table border=\"1\" class=\"dataframe\">\n",
       "  <thead>\n",
       "    <tr style=\"text-align: right;\">\n",
       "      <th></th>\n",
       "      <th>Symbol</th>\n",
       "      <th>Date</th>\n",
       "      <th>Expiry</th>\n",
       "      <th>Option Type</th>\n",
       "      <th>Strike Price</th>\n",
       "      <th>Close</th>\n",
       "      <th>futures_price</th>\n",
       "      <th>time_to_expiry</th>\n",
       "    </tr>\n",
       "  </thead>\n",
       "  <tbody>\n",
       "    <tr>\n",
       "      <th>1</th>\n",
       "      <td>NIFTY</td>\n",
       "      <td>2017-10-03</td>\n",
       "      <td>2017-12-28</td>\n",
       "      <td>PE</td>\n",
       "      <td>8800</td>\n",
       "      <td>119.7</td>\n",
       "      <td>9934.0</td>\n",
       "      <td>86</td>\n",
       "    </tr>\n",
       "    <tr>\n",
       "      <th>3</th>\n",
       "      <td>NIFTY</td>\n",
       "      <td>2017-10-03</td>\n",
       "      <td>2017-12-28</td>\n",
       "      <td>PE</td>\n",
       "      <td>8600</td>\n",
       "      <td>41.3</td>\n",
       "      <td>9934.0</td>\n",
       "      <td>86</td>\n",
       "    </tr>\n",
       "    <tr>\n",
       "      <th>5</th>\n",
       "      <td>NIFTY</td>\n",
       "      <td>2017-10-03</td>\n",
       "      <td>2017-12-28</td>\n",
       "      <td>PE</td>\n",
       "      <td>8400</td>\n",
       "      <td>66.4</td>\n",
       "      <td>9934.0</td>\n",
       "      <td>86</td>\n",
       "    </tr>\n",
       "    <tr>\n",
       "      <th>7</th>\n",
       "      <td>NIFTY</td>\n",
       "      <td>2017-10-03</td>\n",
       "      <td>2017-12-28</td>\n",
       "      <td>PE</td>\n",
       "      <td>8500</td>\n",
       "      <td>17.2</td>\n",
       "      <td>9934.0</td>\n",
       "      <td>86</td>\n",
       "    </tr>\n",
       "    <tr>\n",
       "      <th>9</th>\n",
       "      <td>NIFTY</td>\n",
       "      <td>2017-10-03</td>\n",
       "      <td>2017-12-28</td>\n",
       "      <td>PE</td>\n",
       "      <td>8300</td>\n",
       "      <td>18.0</td>\n",
       "      <td>9934.0</td>\n",
       "      <td>86</td>\n",
       "    </tr>\n",
       "  </tbody>\n",
       "</table>\n",
       "</div>"
      ],
      "text/plain": [
       "  Symbol       Date     Expiry Option Type  Strike Price  Close  \\\n",
       "1  NIFTY 2017-10-03 2017-12-28          PE          8800  119.7   \n",
       "3  NIFTY 2017-10-03 2017-12-28          PE          8600   41.3   \n",
       "5  NIFTY 2017-10-03 2017-12-28          PE          8400   66.4   \n",
       "7  NIFTY 2017-10-03 2017-12-28          PE          8500   17.2   \n",
       "9  NIFTY 2017-10-03 2017-12-28          PE          8300   18.0   \n",
       "\n",
       "   futures_price  time_to_expiry  \n",
       "1         9934.0              86  \n",
       "3         9934.0              86  \n",
       "5         9934.0              86  \n",
       "7         9934.0              86  \n",
       "9         9934.0              86  "
      ]
     },
     "execution_count": 3,
     "metadata": {},
     "output_type": "execute_result"
    }
   ],
   "source": [
    "def time_to_expiry(opt):\n",
    "    opt.Expiry = pd.to_datetime(opt.Expiry)\n",
    "    opt.Date = pd.to_datetime(opt.Date)\n",
    "    opt['time_to_expiry']= (opt.Expiry - opt.Date).dt.days            \n",
    "    return opt\n",
    "\n",
    "Nifty_Opt = time_to_expiry(Nifty_Opt) \n",
    "#Nifty_Opt.sort_values(\"Date\",inplace=True)\n",
    "#Nifty_Opt = Nifty_Opt[:]\n",
    "Nifty_Opt.head()    "
   ]
  },
  {
   "cell_type": "markdown",
   "metadata": {},
   "source": [
    "## Determine ATM strike price\n",
    "\n",
    "In this step, we determine the ATM strike price of the option. We will consider the strike price nearest to the future price to be ATM. This step is required so that we can take positions in the ATM straddle.\n"
   ]
  },
  {
   "cell_type": "code",
   "execution_count": 4,
   "metadata": {},
   "outputs": [
    {
     "name": "stdout",
     "output_type": "stream",
     "text": [
      "The ATM Strike Price is 9900\n"
     ]
    },
    {
     "data": {
      "text/html": [
       "<div>\n",
       "<style scoped>\n",
       "    .dataframe tbody tr th:only-of-type {\n",
       "        vertical-align: middle;\n",
       "    }\n",
       "\n",
       "    .dataframe tbody tr th {\n",
       "        vertical-align: top;\n",
       "    }\n",
       "\n",
       "    .dataframe thead th {\n",
       "        text-align: right;\n",
       "    }\n",
       "</style>\n",
       "<table border=\"1\" class=\"dataframe\">\n",
       "  <thead>\n",
       "    <tr style=\"text-align: right;\">\n",
       "      <th></th>\n",
       "      <th>Symbol</th>\n",
       "      <th>Date</th>\n",
       "      <th>Expiry</th>\n",
       "      <th>Option Type</th>\n",
       "      <th>Strike Price</th>\n",
       "      <th>Close</th>\n",
       "      <th>futures_price</th>\n",
       "      <th>time_to_expiry</th>\n",
       "    </tr>\n",
       "  </thead>\n",
       "  <tbody>\n",
       "    <tr>\n",
       "      <th>100</th>\n",
       "      <td>NIFTY</td>\n",
       "      <td>2017-10-03</td>\n",
       "      <td>2017-12-28</td>\n",
       "      <td>PE</td>\n",
       "      <td>9900</td>\n",
       "      <td>216.50</td>\n",
       "      <td>9934.00</td>\n",
       "      <td>86</td>\n",
       "    </tr>\n",
       "    <tr>\n",
       "      <th>3279</th>\n",
       "      <td>NIFTY</td>\n",
       "      <td>2017-10-03</td>\n",
       "      <td>2017-12-28</td>\n",
       "      <td>CE</td>\n",
       "      <td>9900</td>\n",
       "      <td>234.40</td>\n",
       "      <td>9934.00</td>\n",
       "      <td>86</td>\n",
       "    </tr>\n",
       "    <tr>\n",
       "      <th>3404</th>\n",
       "      <td>NIFTY</td>\n",
       "      <td>2017-10-04</td>\n",
       "      <td>2017-12-28</td>\n",
       "      <td>CE</td>\n",
       "      <td>9900</td>\n",
       "      <td>265.15</td>\n",
       "      <td>10004.25</td>\n",
       "      <td>85</td>\n",
       "    </tr>\n",
       "    <tr>\n",
       "      <th>225</th>\n",
       "      <td>NIFTY</td>\n",
       "      <td>2017-10-04</td>\n",
       "      <td>2017-12-28</td>\n",
       "      <td>PE</td>\n",
       "      <td>9900</td>\n",
       "      <td>176.75</td>\n",
       "      <td>10004.25</td>\n",
       "      <td>85</td>\n",
       "    </tr>\n",
       "    <tr>\n",
       "      <th>349</th>\n",
       "      <td>NIFTY</td>\n",
       "      <td>2017-10-05</td>\n",
       "      <td>2017-12-28</td>\n",
       "      <td>PE</td>\n",
       "      <td>9900</td>\n",
       "      <td>186.55</td>\n",
       "      <td>9975.05</td>\n",
       "      <td>84</td>\n",
       "    </tr>\n",
       "  </tbody>\n",
       "</table>\n",
       "</div>"
      ],
      "text/plain": [
       "     Symbol       Date     Expiry Option Type  Strike Price   Close  \\\n",
       "100   NIFTY 2017-10-03 2017-12-28          PE          9900  216.50   \n",
       "3279  NIFTY 2017-10-03 2017-12-28          CE          9900  234.40   \n",
       "3404  NIFTY 2017-10-04 2017-12-28          CE          9900  265.15   \n",
       "225   NIFTY 2017-10-04 2017-12-28          PE          9900  176.75   \n",
       "349   NIFTY 2017-10-05 2017-12-28          PE          9900  186.55   \n",
       "\n",
       "      futures_price  time_to_expiry  \n",
       "100         9934.00              86  \n",
       "3279        9934.00              86  \n",
       "3404       10004.25              85  \n",
       "225        10004.25              85  \n",
       "349         9975.05              84  "
      ]
     },
     "execution_count": 4,
     "metadata": {},
     "output_type": "execute_result"
    }
   ],
   "source": [
    "temp_df = Nifty_Opt[Nifty_Opt.Date == min(Nifty_Opt.Date)]\n",
    "futures_price = temp_df.futures_price.iloc[0]\n",
    "atm_strike_price = min(temp_df['Strike Price'], key=lambda x:abs(x-futures_price))\n",
    "print(\"The ATM Strike Price is\", atm_strike_price)\n",
    "Nifty_Opt = Nifty_Opt[Nifty_Opt['Strike Price'] == atm_strike_price]\n",
    "Nifty_Opt.sort_values('Date',inplace=True,ascending=True)    \n",
    "Nifty_Opt.head()"
   ]
  },
  {
   "cell_type": "markdown",
   "metadata": {},
   "source": [
    "## Compute implied volatility and Delta"
   ]
  },
  {
   "cell_type": "code",
   "execution_count": 5,
   "metadata": {},
   "outputs": [
    {
     "data": {
      "text/html": [
       "<div>\n",
       "<style scoped>\n",
       "    .dataframe tbody tr th:only-of-type {\n",
       "        vertical-align: middle;\n",
       "    }\n",
       "\n",
       "    .dataframe tbody tr th {\n",
       "        vertical-align: top;\n",
       "    }\n",
       "\n",
       "    .dataframe thead th {\n",
       "        text-align: right;\n",
       "    }\n",
       "</style>\n",
       "<table border=\"1\" class=\"dataframe\">\n",
       "  <thead>\n",
       "    <tr style=\"text-align: right;\">\n",
       "      <th></th>\n",
       "      <th>Symbol</th>\n",
       "      <th>Date</th>\n",
       "      <th>Expiry</th>\n",
       "      <th>Option Type</th>\n",
       "      <th>Strike Price</th>\n",
       "      <th>Close</th>\n",
       "      <th>futures_price</th>\n",
       "      <th>time_to_expiry</th>\n",
       "      <th>IV</th>\n",
       "    </tr>\n",
       "  </thead>\n",
       "  <tbody>\n",
       "    <tr>\n",
       "      <th>100</th>\n",
       "      <td>NIFTY</td>\n",
       "      <td>2017-10-03</td>\n",
       "      <td>2017-12-28</td>\n",
       "      <td>PE</td>\n",
       "      <td>9900</td>\n",
       "      <td>216.50</td>\n",
       "      <td>9934.00</td>\n",
       "      <td>86.0</td>\n",
       "      <td>12.138367</td>\n",
       "    </tr>\n",
       "    <tr>\n",
       "      <th>3279</th>\n",
       "      <td>NIFTY</td>\n",
       "      <td>2017-10-03</td>\n",
       "      <td>2017-12-28</td>\n",
       "      <td>CE</td>\n",
       "      <td>9900</td>\n",
       "      <td>234.40</td>\n",
       "      <td>9934.00</td>\n",
       "      <td>86.0</td>\n",
       "      <td>11.299133</td>\n",
       "    </tr>\n",
       "    <tr>\n",
       "      <th>3404</th>\n",
       "      <td>NIFTY</td>\n",
       "      <td>2017-10-04</td>\n",
       "      <td>2017-12-28</td>\n",
       "      <td>CE</td>\n",
       "      <td>9900</td>\n",
       "      <td>265.15</td>\n",
       "      <td>10004.25</td>\n",
       "      <td>85.0</td>\n",
       "      <td>10.904312</td>\n",
       "    </tr>\n",
       "    <tr>\n",
       "      <th>225</th>\n",
       "      <td>NIFTY</td>\n",
       "      <td>2017-10-04</td>\n",
       "      <td>2017-12-28</td>\n",
       "      <td>PE</td>\n",
       "      <td>9900</td>\n",
       "      <td>176.75</td>\n",
       "      <td>10004.25</td>\n",
       "      <td>85.0</td>\n",
       "      <td>11.747360</td>\n",
       "    </tr>\n",
       "    <tr>\n",
       "      <th>349</th>\n",
       "      <td>NIFTY</td>\n",
       "      <td>2017-10-05</td>\n",
       "      <td>2017-12-28</td>\n",
       "      <td>PE</td>\n",
       "      <td>9900</td>\n",
       "      <td>186.55</td>\n",
       "      <td>9975.05</td>\n",
       "      <td>84.0</td>\n",
       "      <td>11.677265</td>\n",
       "    </tr>\n",
       "  </tbody>\n",
       "</table>\n",
       "</div>"
      ],
      "text/plain": [
       "     Symbol       Date     Expiry Option Type  Strike Price   Close  \\\n",
       "100   NIFTY 2017-10-03 2017-12-28          PE          9900  216.50   \n",
       "3279  NIFTY 2017-10-03 2017-12-28          CE          9900  234.40   \n",
       "3404  NIFTY 2017-10-04 2017-12-28          CE          9900  265.15   \n",
       "225   NIFTY 2017-10-04 2017-12-28          PE          9900  176.75   \n",
       "349   NIFTY 2017-10-05 2017-12-28          PE          9900  186.55   \n",
       "\n",
       "      futures_price  time_to_expiry         IV  \n",
       "100         9934.00            86.0  12.138367  \n",
       "3279        9934.00            86.0  11.299133  \n",
       "3404       10004.25            85.0  10.904312  \n",
       "225        10004.25            85.0  11.747360  \n",
       "349         9975.05            84.0  11.677265  "
      ]
     },
     "execution_count": 5,
     "metadata": {},
     "output_type": "execute_result"
    }
   ],
   "source": [
    "def implied_volatility_options(opt):\n",
    "    opt['IV'] = np.nan    \n",
    "    opt.loc[(opt.time_to_expiry == 0),'time_to_expiry'] = 0.0000001\n",
    "    for i in range(0,len(opt)):         \n",
    "        if opt.iloc[i]['Option Type'] == 'CE':\n",
    "            opt.iloc[i,opt.columns.get_loc('IV')] = mibian.BS([opt.iloc[i]['futures_price'], \n",
    "                                                               opt.iloc[i]['Strike Price'], \n",
    "                                                               0, \n",
    "                                                               opt.iloc[i]['time_to_expiry']], \n",
    "                                                              callPrice=opt.iloc[i]['Close']\n",
    "                                                             ).impliedVolatility\n",
    "        else:\n",
    "            opt.iloc[i,opt.columns.get_loc('IV')] = mibian.BS([opt.iloc[i]['futures_price'], \n",
    "                                                               opt.iloc[i]['Strike Price'], \n",
    "                                                               0, \n",
    "                                                               opt.iloc[i]['time_to_expiry']], \n",
    "                                                              putPrice=opt.iloc[i]['Close']\n",
    "                                                             ).impliedVolatility\n",
    "    return opt  \n",
    "\n",
    "Nifty_Opt = implied_volatility_options(Nifty_Opt)    \n",
    "Nifty_Opt.head()"
   ]
  },
  {
   "cell_type": "code",
   "execution_count": 6,
   "metadata": {
    "scrolled": true
   },
   "outputs": [
    {
     "data": {
      "text/html": [
       "<div>\n",
       "<style scoped>\n",
       "    .dataframe tbody tr th:only-of-type {\n",
       "        vertical-align: middle;\n",
       "    }\n",
       "\n",
       "    .dataframe tbody tr th {\n",
       "        vertical-align: top;\n",
       "    }\n",
       "\n",
       "    .dataframe thead th {\n",
       "        text-align: right;\n",
       "    }\n",
       "</style>\n",
       "<table border=\"1\" class=\"dataframe\">\n",
       "  <thead>\n",
       "    <tr style=\"text-align: right;\">\n",
       "      <th></th>\n",
       "      <th>Symbol</th>\n",
       "      <th>Date</th>\n",
       "      <th>Expiry</th>\n",
       "      <th>Option Type</th>\n",
       "      <th>Strike Price</th>\n",
       "      <th>Close</th>\n",
       "      <th>futures_price</th>\n",
       "      <th>time_to_expiry</th>\n",
       "      <th>IV</th>\n",
       "      <th>delta</th>\n",
       "    </tr>\n",
       "  </thead>\n",
       "  <tbody>\n",
       "    <tr>\n",
       "      <th>100</th>\n",
       "      <td>NIFTY</td>\n",
       "      <td>2017-10-03</td>\n",
       "      <td>2017-12-28</td>\n",
       "      <td>PE</td>\n",
       "      <td>9900</td>\n",
       "      <td>216.50</td>\n",
       "      <td>9934.00</td>\n",
       "      <td>86.0</td>\n",
       "      <td>12.138367</td>\n",
       "      <td>-0.465078</td>\n",
       "    </tr>\n",
       "    <tr>\n",
       "      <th>3279</th>\n",
       "      <td>NIFTY</td>\n",
       "      <td>2017-10-03</td>\n",
       "      <td>2017-12-28</td>\n",
       "      <td>CE</td>\n",
       "      <td>9900</td>\n",
       "      <td>234.40</td>\n",
       "      <td>9934.00</td>\n",
       "      <td>86.0</td>\n",
       "      <td>11.299133</td>\n",
       "      <td>0.535830</td>\n",
       "    </tr>\n",
       "    <tr>\n",
       "      <th>3404</th>\n",
       "      <td>NIFTY</td>\n",
       "      <td>2017-10-04</td>\n",
       "      <td>2017-12-28</td>\n",
       "      <td>CE</td>\n",
       "      <td>9900</td>\n",
       "      <td>265.15</td>\n",
       "      <td>10004.25</td>\n",
       "      <td>85.0</td>\n",
       "      <td>10.904312</td>\n",
       "      <td>0.589158</td>\n",
       "    </tr>\n",
       "    <tr>\n",
       "      <th>225</th>\n",
       "      <td>NIFTY</td>\n",
       "      <td>2017-10-04</td>\n",
       "      <td>2017-12-28</td>\n",
       "      <td>PE</td>\n",
       "      <td>9900</td>\n",
       "      <td>176.75</td>\n",
       "      <td>10004.25</td>\n",
       "      <td>85.0</td>\n",
       "      <td>11.747360</td>\n",
       "      <td>-0.415614</td>\n",
       "    </tr>\n",
       "    <tr>\n",
       "      <th>349</th>\n",
       "      <td>NIFTY</td>\n",
       "      <td>2017-10-05</td>\n",
       "      <td>2017-12-28</td>\n",
       "      <td>PE</td>\n",
       "      <td>9900</td>\n",
       "      <td>186.55</td>\n",
       "      <td>9975.05</td>\n",
       "      <td>84.0</td>\n",
       "      <td>11.677265</td>\n",
       "      <td>-0.435328</td>\n",
       "    </tr>\n",
       "    <tr>\n",
       "      <th>3528</th>\n",
       "      <td>NIFTY</td>\n",
       "      <td>2017-10-05</td>\n",
       "      <td>2017-12-28</td>\n",
       "      <td>CE</td>\n",
       "      <td>9900</td>\n",
       "      <td>249.75</td>\n",
       "      <td>9975.05</td>\n",
       "      <td>84.0</td>\n",
       "      <td>11.048317</td>\n",
       "      <td>0.567098</td>\n",
       "    </tr>\n",
       "  </tbody>\n",
       "</table>\n",
       "</div>"
      ],
      "text/plain": [
       "     Symbol       Date     Expiry Option Type  Strike Price   Close  \\\n",
       "100   NIFTY 2017-10-03 2017-12-28          PE          9900  216.50   \n",
       "3279  NIFTY 2017-10-03 2017-12-28          CE          9900  234.40   \n",
       "3404  NIFTY 2017-10-04 2017-12-28          CE          9900  265.15   \n",
       "225   NIFTY 2017-10-04 2017-12-28          PE          9900  176.75   \n",
       "349   NIFTY 2017-10-05 2017-12-28          PE          9900  186.55   \n",
       "3528  NIFTY 2017-10-05 2017-12-28          CE          9900  249.75   \n",
       "\n",
       "      futures_price  time_to_expiry         IV     delta  \n",
       "100         9934.00            86.0  12.138367 -0.465078  \n",
       "3279        9934.00            86.0  11.299133  0.535830  \n",
       "3404       10004.25            85.0  10.904312  0.589158  \n",
       "225        10004.25            85.0  11.747360 -0.415614  \n",
       "349         9975.05            84.0  11.677265 -0.435328  \n",
       "3528        9975.05            84.0  11.048317  0.567098  "
      ]
     },
     "execution_count": 6,
     "metadata": {},
     "output_type": "execute_result"
    }
   ],
   "source": [
    "def delta_options(opt):\n",
    "    opt['delta'] = np.nan    \n",
    "    for i in range(0,len(opt)):         \n",
    "        if opt.iloc[i]['Option Type'] == 'CE':            \n",
    "            opt.iloc[i,opt.columns.get_loc('delta')] = mibian.BS([opt.iloc[i]['futures_price'], \n",
    "                                                               opt.iloc[i]['Strike Price'], \n",
    "                                                               0, \n",
    "                                                               opt.iloc[i]['time_to_expiry']], \n",
    "                                                              volatility=opt.iloc[i]['IV']\n",
    "                                                             ).callDelta\n",
    "        else:\n",
    "            opt.iloc[i,opt.columns.get_loc('delta')] = mibian.BS([opt.iloc[i]['futures_price'], \n",
    "                                                               opt.iloc[i]['Strike Price'], \n",
    "                                                               0, \n",
    "                                                               opt.iloc[i]['time_to_expiry']], \n",
    "                                                              volatility=opt.iloc[i]['IV']\n",
    "                                                             ).putDelta\n",
    "    return opt  \n",
    "\n",
    "Nifty_Opt = delta_options(Nifty_Opt)    \n",
    "Nifty_Opt.head(6)"
   ]
  },
  {
   "cell_type": "markdown",
   "metadata": {},
   "source": [
    "## Plot daily Delta"
   ]
  },
  {
   "cell_type": "code",
   "execution_count": 7,
   "metadata": {},
   "outputs": [
    {
     "data": {
      "image/png": "[encoded data removed]",
      "text/plain": [
       "<Figure size 720x360 with 1 Axes>"
      ]
     },
     "metadata": {
      "needs_background": "light"
     },
     "output_type": "display_data"
    }
   ],
   "source": [
    "Nifty_Lot_Size = 75\n",
    "Nifty_delta = Nifty_Opt.groupby(['Date'])['delta'].sum().to_frame() * Nifty_Lot_Size\n",
    "Nifty_delta.plot(figsize=(10,5))\n",
    "plt.show()"
   ]
  },
  {
   "cell_type": "markdown",
   "metadata": {},
   "source": [
    "## Compute the strategy PnL\n",
    "\n",
    "The steps followed to compute the strategy PnL are as follows:\n",
    "1. PnL from the straddle (Call PnL + Put PnL)\n",
    "2. PnL from the Nifty futures\n",
    "3. Strategy PnL = straddle PnL + Nifty futures PnL"
   ]
  },
  {
   "cell_type": "code",
   "execution_count": 8,
   "metadata": {},
   "outputs": [],
   "source": [
    "def daily_pnl(opt):\n",
    "    opt['daily_pnl'] = opt.Close - opt.Close.shift(1)    \n",
    "    return opt"
   ]
  },
  {
   "cell_type": "markdown",
   "metadata": {},
   "source": [
    "### Call PnL"
   ]
  },
  {
   "cell_type": "code",
   "execution_count": 9,
   "metadata": {},
   "outputs": [
    {
     "data": {
      "text/html": [
       "<div>\n",
       "<style scoped>\n",
       "    .dataframe tbody tr th:only-of-type {\n",
       "        vertical-align: middle;\n",
       "    }\n",
       "\n",
       "    .dataframe tbody tr th {\n",
       "        vertical-align: top;\n",
       "    }\n",
       "\n",
       "    .dataframe thead th {\n",
       "        text-align: right;\n",
       "    }\n",
       "</style>\n",
       "<table border=\"1\" class=\"dataframe\">\n",
       "  <thead>\n",
       "    <tr style=\"text-align: right;\">\n",
       "      <th></th>\n",
       "      <th>Close</th>\n",
       "      <th>daily_pnl</th>\n",
       "    </tr>\n",
       "    <tr>\n",
       "      <th>Date</th>\n",
       "      <th></th>\n",
       "      <th></th>\n",
       "    </tr>\n",
       "  </thead>\n",
       "  <tbody>\n",
       "    <tr>\n",
       "      <th>2017-11-01</th>\n",
       "      <td>655.55</td>\n",
       "      <td>7841.25</td>\n",
       "    </tr>\n",
       "    <tr>\n",
       "      <th>2017-11-02</th>\n",
       "      <td>635.00</td>\n",
       "      <td>-1541.25</td>\n",
       "    </tr>\n",
       "    <tr>\n",
       "      <th>2017-11-03</th>\n",
       "      <td>649.95</td>\n",
       "      <td>1121.25</td>\n",
       "    </tr>\n",
       "    <tr>\n",
       "      <th>2017-11-06</th>\n",
       "      <td>670.55</td>\n",
       "      <td>1545.00</td>\n",
       "    </tr>\n",
       "    <tr>\n",
       "      <th>2017-11-07</th>\n",
       "      <td>595.55</td>\n",
       "      <td>-5625.00</td>\n",
       "    </tr>\n",
       "  </tbody>\n",
       "</table>\n",
       "</div>"
      ],
      "text/plain": [
       "             Close  daily_pnl\n",
       "Date                         \n",
       "2017-11-01  655.55    7841.25\n",
       "2017-11-02  635.00   -1541.25\n",
       "2017-11-03  649.95    1121.25\n",
       "2017-11-06  670.55    1545.00\n",
       "2017-11-07  595.55   -5625.00"
      ]
     },
     "execution_count": 9,
     "metadata": {},
     "output_type": "execute_result"
    }
   ],
   "source": [
    "Nifty_CE = Nifty_Opt[Nifty_Opt['Option Type'] == 'CE'][['Date','Close']]\n",
    "Nifty_CE = Nifty_CE.set_index('Date')\n",
    "Nifty_CE = daily_pnl(Nifty_CE)\n",
    "Nifty_CE.daily_pnl = Nifty_CE.daily_pnl * Nifty_Lot_Size\n",
    "Nifty_CE.tail()"
   ]
  },
  {
   "cell_type": "markdown",
   "metadata": {},
   "source": [
    "### Put PnL"
   ]
  },
  {
   "cell_type": "code",
   "execution_count": 10,
   "metadata": {},
   "outputs": [
    {
     "data": {
      "text/html": [
       "<div>\n",
       "<style scoped>\n",
       "    .dataframe tbody tr th:only-of-type {\n",
       "        vertical-align: middle;\n",
       "    }\n",
       "\n",
       "    .dataframe tbody tr th {\n",
       "        vertical-align: top;\n",
       "    }\n",
       "\n",
       "    .dataframe thead th {\n",
       "        text-align: right;\n",
       "    }\n",
       "</style>\n",
       "<table border=\"1\" class=\"dataframe\">\n",
       "  <thead>\n",
       "    <tr style=\"text-align: right;\">\n",
       "      <th></th>\n",
       "      <th>Close</th>\n",
       "      <th>daily_pnl</th>\n",
       "    </tr>\n",
       "    <tr>\n",
       "      <th>Date</th>\n",
       "      <th></th>\n",
       "      <th></th>\n",
       "    </tr>\n",
       "  </thead>\n",
       "  <tbody>\n",
       "    <tr>\n",
       "      <th>2017-11-01</th>\n",
       "      <td>45.60</td>\n",
       "      <td>-1098.75</td>\n",
       "    </tr>\n",
       "    <tr>\n",
       "      <th>2017-11-02</th>\n",
       "      <td>45.45</td>\n",
       "      <td>-11.25</td>\n",
       "    </tr>\n",
       "    <tr>\n",
       "      <th>2017-11-03</th>\n",
       "      <td>42.95</td>\n",
       "      <td>-187.50</td>\n",
       "    </tr>\n",
       "    <tr>\n",
       "      <th>2017-11-06</th>\n",
       "      <td>43.75</td>\n",
       "      <td>60.00</td>\n",
       "    </tr>\n",
       "    <tr>\n",
       "      <th>2017-11-07</th>\n",
       "      <td>51.10</td>\n",
       "      <td>551.25</td>\n",
       "    </tr>\n",
       "  </tbody>\n",
       "</table>\n",
       "</div>"
      ],
      "text/plain": [
       "            Close  daily_pnl\n",
       "Date                        \n",
       "2017-11-01  45.60   -1098.75\n",
       "2017-11-02  45.45     -11.25\n",
       "2017-11-03  42.95    -187.50\n",
       "2017-11-06  43.75      60.00\n",
       "2017-11-07  51.10     551.25"
      ]
     },
     "execution_count": 10,
     "metadata": {},
     "output_type": "execute_result"
    }
   ],
   "source": [
    "Nifty_PE = Nifty_Opt[Nifty_Opt['Option Type'] == 'PE'][['Date','Close']]\n",
    "Nifty_PE = Nifty_PE.set_index('Date')\n",
    "Nifty_PE = daily_pnl(Nifty_PE)\n",
    "Nifty_PE.daily_pnl = Nifty_PE.daily_pnl * Nifty_Lot_Size\n",
    "Nifty_PE.tail()"
   ]
  },
  {
   "cell_type": "markdown",
   "metadata": {},
   "source": [
    "### Straddle PnL"
   ]
  },
  {
   "cell_type": "code",
   "execution_count": 11,
   "metadata": {},
   "outputs": [
    {
     "data": {
      "image/png": "[encoded data removed]",
      "text/plain": [
       "<Figure size 720x360 with 1 Axes>"
      ]
     },
     "metadata": {
      "needs_background": "light"
     },
     "output_type": "display_data"
    }
   ],
   "source": [
    "straddle_pnl = Nifty_CE.daily_pnl + Nifty_PE.daily_pnl\n",
    "straddle_pnl.cumsum().plot(figsize=(10,5))\n",
    "plt.ylabel(\"Straddle PnL\")\n",
    "plt.show()"
   ]
  },
  {
   "cell_type": "markdown",
   "metadata": {},
   "source": [
    "### Nifty futures PnL"
   ]
  },
  {
   "cell_type": "code",
   "execution_count": 12,
   "metadata": {},
   "outputs": [
    {
     "data": {
      "image/png": "[encoded data removed]",
      "text/plain": [
       "<Figure size 720x360 with 1 Axes>"
      ]
     },
     "metadata": {
      "needs_background": "light"
     },
     "output_type": "display_data"
    }
   ],
   "source": [
    "Nifty_Fut = Nifty_Opt.groupby(['Date'])['futures_price'].mean().to_frame()\n",
    "Nifty_Fut = Nifty_Fut.rename(columns={'futures_price': 'Close'})     \n",
    "Nifty_Fut['quantity'] = -Nifty_delta // 5 * 5\n",
    "Nifty_Fut = daily_pnl(Nifty_Fut)\n",
    "Nifty_Fut.daily_pnl = Nifty_Fut.daily_pnl * Nifty_Fut.quantity.shift(1)\n",
    "Nifty_Fut.daily_pnl.cumsum().plot(figsize=(10,5))\n",
    "plt.ylabel(\"Nifty futures PnL\")\n",
    "plt.show()"
   ]
  },
  {
   "cell_type": "markdown",
   "metadata": {},
   "source": [
    "### Strategy PnL"
   ]
  },
  {
   "cell_type": "code",
   "execution_count": 13,
   "metadata": {},
   "outputs": [
    {
     "data": {
      "image/png": "[encoded data removed]",
      "text/plain": [
       "<Figure size 720x360 with 1 Axes>"
      ]
     },
     "metadata": {
      "needs_background": "light"
     },
     "output_type": "display_data"
    }
   ],
   "source": [
    "strategy_pnl = Nifty_CE.daily_pnl + Nifty_PE.daily_pnl + Nifty_Fut.daily_pnl\n",
    "strategy_pnl.cumsum().plot(figsize=(10,5))\n",
    "plt.ylabel(\"Strategy PnL\")\n",
    "plt.show()"
   ]
  },
  {
   "cell_type": "markdown",
   "metadata": {},
   "source": [
    "In this example, Gamma scalping showed that money could be made. We made INR 1000 through this strategy. There are many more factors that influence the strategy’s profitability; however, this is a basic depiction of the power of Gamma scalping.\n",
    "In the next unit, there will be an interactive exercise.\n",
    "<BR>"
   ]
  }
 ],
 "metadata": {
  "kernelspec": {
   "display_name": "Python 3",
   "language": "python",
   "name": "python3"
  },
  "language_info": {
   "codemirror_mode": {
    "name": "ipython",
    "version": 3
   },
   "file_extension": ".py",
   "mimetype": "text/x-python",
   "name": "python",
   "nbconvert_exporter": "python",
   "pygments_lexer": "ipython3",
   "version": "3.7.4"
  }
 },
 "nbformat": 4,
 "nbformat_minor": 2
}
