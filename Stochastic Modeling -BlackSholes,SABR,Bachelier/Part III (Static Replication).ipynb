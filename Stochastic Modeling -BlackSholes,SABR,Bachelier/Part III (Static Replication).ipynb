{
 "cells": [
  {
   "cell_type": "code",
   "execution_count": 1,
   "metadata": {},
   "outputs": [],
   "source": [
    "import numpy as np\n",
    "import pandas as pd\n",
    "from scipy.stats import norm\n",
    "from scipy.optimize import brentq\n",
    "import matplotlib.pylab as plt\n",
    "import datetime as dt"
   ]
  },
  {
   "cell_type": "code",
   "execution_count": 2,
   "metadata": {},
   "outputs": [],
   "source": [
    "rate_df = pd.read_csv('discount.csv')\n",
    "call_df = pd.read_csv(\"goog_call.csv\")\n",
    "put_df = pd.read_csv(\"goog_put.csv\")"
   ]
  },
  {
   "cell_type": "code",
   "execution_count": 3,
   "metadata": {},
   "outputs": [],
   "source": [
    "today = dt.date(2013, 8, 30)\n",
    "expiry = dt.date(2015, 1, 17)\n",
    "T = (expiry-today).days/365.0\n",
    "r = np.interp((expiry - today).days, rate_df['Day'], rate_df['Rate (%)'])/100"
   ]
  },
  {
   "cell_type": "code",
   "execution_count": 14,
   "metadata": {},
   "outputs": [],
   "source": [
    "S0 = 846.9\n",
    "F = S * np.exp(r*T)"
   ]
  },
  {
   "cell_type": "code",
   "execution_count": 5,
   "metadata": {},
   "outputs": [],
   "source": [
    "call_df['mid'] = (call_df['best_bid'] + call_df['best_offer']) / 2\n",
    "put_df['mid'] = (put_df['best_bid'] + put_df['best_offer']) / 2"
   ]
  },
  {
   "cell_type": "code",
   "execution_count": 6,
   "metadata": {},
   "outputs": [],
   "source": [
    "def BlackScholesCall(S, K, r, sigma, T):\n",
    "    d1 = (np.log(S/K)+(r+sigma**2/2)*T) / (sigma*np.sqrt(T))\n",
    "    d2 = d1 - sigma*np.sqrt(T)\n",
    "    return S*norm.cdf(d1) - K*np.exp(-r*T)*norm.cdf(d2)\n",
    "\n",
    "def impliedCallVolatility(S, K, r, price, T):\n",
    "    impliedVol = brentq(lambda x: price -\n",
    "                        BlackScholesCall(S, K, r, x, T),\n",
    "                        1e-6, 1)\n",
    "\n",
    "    return impliedVol"
   ]
  },
  {
   "cell_type": "code",
   "execution_count": 7,
   "metadata": {},
   "outputs": [],
   "source": [
    "def BlackScholesPut(S, K, r, sigma, T):\n",
    "    d1 = (np.log(S/K)+(r+sigma**2/2)*T) / (sigma*np.sqrt(T))\n",
    "    d2 = d1 - sigma*np.sqrt(T)\n",
    "    return K*np.exp(-r*T)*norm.cdf(-d2) - S*norm.cdf(-d1)\n",
    "\n",
    "def impliedPutVolatility(S, K, r, price, T):\n",
    "    impliedVol = brentq(lambda x: price -\n",
    "                        BlackScholesPut(S, K, r, x, T),\n",
    "                        1e-6, 1)\n",
    "\n",
    "    return impliedVol"
   ]
  },
  {
   "cell_type": "code",
   "execution_count": 8,
   "metadata": {},
   "outputs": [],
   "source": [
    "# get the mid price of bid/offer as option price\n",
    "put_df_option = put_df[put_df['strike'] <= F]\n",
    "call_df_option = call_df[call_df['strike'] >= F]"
   ]
  },
  {
   "cell_type": "code",
   "execution_count": 9,
   "metadata": {},
   "outputs": [
    {
     "name": "stderr",
     "output_type": "stream",
     "text": [
      "C:\\Users\\mrrbi\\Anaconda3\\lib\\site-packages\\ipykernel_launcher.py:1: SettingWithCopyWarning: \n",
      "A value is trying to be set on a copy of a slice from a DataFrame.\n",
      "Try using .loc[row_indexer,col_indexer] = value instead\n",
      "\n",
      "See the caveats in the documentation: https://pandas.pydata.org/pandas-docs/stable/user_guide/indexing.html#returning-a-view-versus-a-copy\n",
      "  \"\"\"Entry point for launching an IPython kernel.\n",
      "C:\\Users\\mrrbi\\Anaconda3\\lib\\site-packages\\ipykernel_launcher.py:2: SettingWithCopyWarning: \n",
      "A value is trying to be set on a copy of a slice from a DataFrame.\n",
      "Try using .loc[row_indexer,col_indexer] = value instead\n",
      "\n",
      "See the caveats in the documentation: https://pandas.pydata.org/pandas-docs/stable/user_guide/indexing.html#returning-a-view-versus-a-copy\n",
      "  \n"
     ]
    }
   ],
   "source": [
    "call_df_option['impliedvol'] = call_df_option.apply(lambda x: impliedCallVolatility(S, x['strike'],r,  x['mid'], T), axis=1)\n",
    "put_df_option['impliedvol'] = put_df_option.apply(lambda x: impliedPutVolatility(S, x['strike'],r,  x['mid'], T), axis=1)"
   ]
  },
  {
   "cell_type": "code",
   "execution_count": 10,
   "metadata": {},
   "outputs": [],
   "source": [
    "df = pd.concat([put_df_option, call_df_option])"
   ]
  },
  {
   "cell_type": "code",
   "execution_count": 11,
   "metadata": {},
   "outputs": [
    {
     "data": {
      "text/plain": [
       "0.25812694845838613"
      ]
     },
     "execution_count": 11,
     "metadata": {},
     "output_type": "execute_result"
    }
   ],
   "source": [
    "vol_at_strike = 0.5*(np.interp(F, put_df_option[\"strike\"], put_df_option[\"impliedvol\"])\n",
    "                     +np.interp(F, call_df_option[\"strike\"], call_df_option[\"impliedvol\"]))\n",
    "vol_at_strike"
   ]
  },
  {
   "cell_type": "markdown",
   "metadata": {},
   "source": [
    "#### Through Simulation"
   ]
  },
  {
   "cell_type": "code",
   "execution_count": 12,
   "metadata": {},
   "outputs": [],
   "source": [
    "observations = 100\n",
    "np.random.seed(0)\n",
    "x = np.random.normal(0,1,observations)"
   ]
  },
  {
   "cell_type": "markdown",
   "metadata": {},
   "source": [
    "#### Black Scholes Model"
   ]
  },
  {
   "cell_type": "code",
   "execution_count": 15,
   "metadata": {},
   "outputs": [],
   "source": [
    "St = []\n",
    "for i in x:\n",
    "    price = S0*np.exp((r-0.5*(vol_at_strike**2))* T + vol_at_strike*np.sqrt(T)*i)\n",
    "    St.append(price)\n",
    "    \n",
    "St = np.array(St)"
   ]
  },
  {
   "cell_type": "code",
   "execution_count": 16,
   "metadata": {},
   "outputs": [],
   "source": [
    "payoff = []\n",
    "for i in St:\n",
    "    output = ((i ** 3)* 1e-8) + (0.5 * np.log(i)) + 10\n",
    "    payoff.append(output) \n",
    "    \n",
    "payoff = np.array(payoff)"
   ]
  },
  {
   "cell_type": "code",
   "execution_count": 17,
   "metadata": {},
   "outputs": [
    {
     "data": {
      "text/plain": [
       "21.79437700234562"
      ]
     },
     "execution_count": 17,
     "metadata": {},
     "output_type": "execute_result"
    }
   ],
   "source": [
    "Option_Value_BS = (payoff.mean())/np.exp(r*T)\n",
    "Option_Value_BS"
   ]
  },
  {
   "cell_type": "markdown",
   "metadata": {},
   "source": [
    "#### Bachelier Model"
   ]
  },
  {
   "cell_type": "code",
   "execution_count": 18,
   "metadata": {},
   "outputs": [],
   "source": [
    "St_bach = []\n",
    "\n",
    "for i in x:\n",
    "    price = S0*(1+(vol_at_strike*np.sqrt(T)*i))\n",
    "    St_bach.append(price)\n",
    "    \n",
    "St_bach = np.array(St_bach)"
   ]
  },
  {
   "cell_type": "code",
   "execution_count": 19,
   "metadata": {},
   "outputs": [
    {
     "data": {
      "text/plain": [
       "21.38281200739997"
      ]
     },
     "execution_count": 19,
     "metadata": {},
     "output_type": "execute_result"
    }
   ],
   "source": [
    "payoff_bach = ((St_bach ** 3)* 1e-8) + (0.5 * np.log(St_bach)) + 10\n",
    "Option_Value_Bach = payoff_bach.mean()/np.exp(r*T)\n",
    "Option_Value_Bach"
   ]
  }
 ],
 "metadata": {
  "kernelspec": {
   "display_name": "Python 3",
   "language": "python",
   "name": "python3"
  },
  "language_info": {
   "codemirror_mode": {
    "name": "ipython",
    "version": 3
   },
   "file_extension": ".py",
   "mimetype": "text/x-python",
   "name": "python",
   "nbconvert_exporter": "python",
   "pygments_lexer": "ipython3",
   "version": "3.8.3"
  }
 },
 "nbformat": 4,
 "nbformat_minor": 4
}
