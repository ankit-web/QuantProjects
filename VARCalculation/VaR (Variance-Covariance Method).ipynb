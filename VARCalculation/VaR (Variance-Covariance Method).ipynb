{
 "cells": [
  {
   "cell_type": "markdown",
   "metadata": {},
   "source": [
    "# Notebook Instructions\n",
    "<i>You can run the notebook document sequentially (one cell a time) by pressing <b> shift + enter</b>. While a cell is running, a [*] will display on the left. When it has been run, a number will display indicating the order in which it was run in the notebook [8].</i>\n",
    "\n",
    "<i>Enter edit mode by pressing <b>`Enter`</b> or using the mouse to click on a cell's editor area. Edit mode is indicated by a green cell border and a prompt showing in the editor area.</i>"
   ]
  },
  {
   "cell_type": "markdown",
   "metadata": {},
   "source": [
    "# Variance-Covariance Method\n",
    "\n",
    "The Variance-covariance is a parametric method which assumes that the returns are normally distributed. Similar to the historical method, we use the historical data to calculate parameters such as standard deviation and mean. Based on these parameters, we plot a normal curve against the daily returns. From the normal curve, we get the VaR for different confidence levels. Mathematically, for a 95% confidence level, VaR has calculated as Mean - 1.65 * standard deviations and for 99% confidence level, VaR is calculated as Mean - 2.33 * standard deviation."
   ]
  },
  {
   "cell_type": "markdown",
   "metadata": {},
   "source": [
    "## Import the libraries\n",
    "Let us import the necessary libraries"
   ]
  },
  {
   "cell_type": "code",
   "execution_count": 1,
   "metadata": {},
   "outputs": [],
   "source": [
    "# Data manipulation\n",
    "import numpy as np\n",
    "import pandas as pd\n",
    "import scipy\n",
    "# Plotting \n",
    "import matplotlib.pyplot as plt\n",
    "\n",
    "# Statistical calculation\n",
    "from scipy.stats import norm\n",
    "\n",
    "# Tabular data output\n",
    "from tabulate import tabulate "
   ]
  },
  {
   "cell_type": "markdown",
   "metadata": {},
   "source": [
    "## Import the data\n",
    "\n",
    "Here we do the following two steps:\n",
    "1. Import the price data for Apple Inc.\n",
    "2. Calculate the daily returns"
   ]
  },
  {
   "cell_type": "code",
   "execution_count": 2,
   "metadata": {},
   "outputs": [
    {
     "data": {
      "text/html": [
       "<div>\n",
       "<style scoped>\n",
       "    .dataframe tbody tr th:only-of-type {\n",
       "        vertical-align: middle;\n",
       "    }\n",
       "\n",
       "    .dataframe tbody tr th {\n",
       "        vertical-align: top;\n",
       "    }\n",
       "\n",
       "    .dataframe thead th {\n",
       "        text-align: right;\n",
       "    }\n",
       "</style>\n",
       "<table border=\"1\" class=\"dataframe\">\n",
       "  <thead>\n",
       "    <tr style=\"text-align: right;\">\n",
       "      <th></th>\n",
       "      <th>Open</th>\n",
       "      <th>High</th>\n",
       "      <th>Low</th>\n",
       "      <th>Close</th>\n",
       "      <th>Adj Close</th>\n",
       "      <th>Volume</th>\n",
       "      <th>returns</th>\n",
       "    </tr>\n",
       "    <tr>\n",
       "      <th>Date</th>\n",
       "      <th></th>\n",
       "      <th></th>\n",
       "      <th></th>\n",
       "      <th></th>\n",
       "      <th></th>\n",
       "      <th></th>\n",
       "      <th></th>\n",
       "    </tr>\n",
       "  </thead>\n",
       "  <tbody>\n",
       "    <tr>\n",
       "      <th>2015-12-31</th>\n",
       "      <td>107.01</td>\n",
       "      <td>107.03</td>\n",
       "      <td>104.82</td>\n",
       "      <td>105.26</td>\n",
       "      <td>99.03</td>\n",
       "      <td>40635300</td>\n",
       "      <td>NaN</td>\n",
       "    </tr>\n",
       "    <tr>\n",
       "      <th>2016-01-04</th>\n",
       "      <td>102.61</td>\n",
       "      <td>105.37</td>\n",
       "      <td>102.00</td>\n",
       "      <td>105.35</td>\n",
       "      <td>99.12</td>\n",
       "      <td>67649400</td>\n",
       "      <td>0.000855</td>\n",
       "    </tr>\n",
       "    <tr>\n",
       "      <th>2016-01-05</th>\n",
       "      <td>105.75</td>\n",
       "      <td>105.85</td>\n",
       "      <td>102.41</td>\n",
       "      <td>102.71</td>\n",
       "      <td>96.63</td>\n",
       "      <td>55791000</td>\n",
       "      <td>-0.025059</td>\n",
       "    </tr>\n",
       "    <tr>\n",
       "      <th>2016-01-06</th>\n",
       "      <td>100.56</td>\n",
       "      <td>102.37</td>\n",
       "      <td>99.87</td>\n",
       "      <td>100.70</td>\n",
       "      <td>94.74</td>\n",
       "      <td>68457400</td>\n",
       "      <td>-0.019570</td>\n",
       "    </tr>\n",
       "    <tr>\n",
       "      <th>2016-01-07</th>\n",
       "      <td>98.68</td>\n",
       "      <td>100.13</td>\n",
       "      <td>96.43</td>\n",
       "      <td>96.45</td>\n",
       "      <td>90.74</td>\n",
       "      <td>81094400</td>\n",
       "      <td>-0.042205</td>\n",
       "    </tr>\n",
       "  </tbody>\n",
       "</table>\n",
       "</div>"
      ],
      "text/plain": [
       "              Open    High     Low   Close  Adj Close    Volume   returns\n",
       "Date                                                                     \n",
       "2015-12-31  107.01  107.03  104.82  105.26      99.03  40635300       NaN\n",
       "2016-01-04  102.61  105.37  102.00  105.35      99.12  67649400  0.000855\n",
       "2016-01-05  105.75  105.85  102.41  102.71      96.63  55791000 -0.025059\n",
       "2016-01-06  100.56  102.37   99.87  100.70      94.74  68457400 -0.019570\n",
       "2016-01-07   98.68  100.13   96.43   96.45      90.74  81094400 -0.042205"
      ]
     },
     "execution_count": 2,
     "metadata": {},
     "output_type": "execute_result"
    }
   ],
   "source": [
    "df = pd.read_csv('../data_modules/AAPL_new.csv')\n",
    "df = df.set_index(\"Date\")\n",
    "df['returns'] = df.Close.pct_change()\n",
    "df.head()"
   ]
  },
  {
   "cell_type": "markdown",
   "metadata": {},
   "source": [
    "## Calculate the VaR\n",
    "\n",
    "We do the following tasks:\n",
    "1. Determine mean of the daily returns\n",
    "2. Determine standard deviation of the daily returns\n",
    "3. Plot the normal curve against the daily returns\n",
    "3. Calculate VaR using point percentile function (ppf)"
   ]
  },
  {
   "cell_type": "code",
   "execution_count": 3,
   "metadata": {},
   "outputs": [
    {
     "data": {
      "image/png": "[encoded data removed]",
      "text/plain": [
       "<Figure size 432x288 with 1 Axes>"
      ]
     },
     "metadata": {
      "needs_background": "light"
     },
     "output_type": "display_data"
    }
   ],
   "source": [
    "mean = np.mean(df['returns'])\n",
    "std_dev = np.std(df['returns'])\n",
    "\n",
    "df['returns'].hist(bins=40, density=True, histtype='stepfilled', alpha=0.5)\n",
    "x = np.linspace(mean - 3*std_dev, mean + 3*std_dev, 100)\n",
    "plt.plot(x, scipy.stats.norm.pdf(x, mean, std_dev), \"r\")\n",
    "plt.show()"
   ]
  },
  {
   "cell_type": "code",
   "execution_count": 4,
   "metadata": {},
   "outputs": [
    {
     "name": "stdout",
     "output_type": "stream",
     "text": [
      "Confidence Level      Value at Risk\n",
      "------------------  ---------------\n",
      "90%                        -1.5683\n",
      "95%                        -2.04208\n",
      "99%                        -2.9308\n"
     ]
    }
   ],
   "source": [
    "VaR_90 = norm.ppf(1-0.9, mean, std_dev)*100\n",
    "VaR_95 = norm.ppf(1-0.95, mean, std_dev)*100\n",
    "VaR_99 = norm.ppf(1-0.99, mean, std_dev)*100\n",
    "\n",
    "print(tabulate([['90%', VaR_90], ['95%', VaR_95], [\"99%\", VaR_99]],\n",
    "               headers=['Confidence Level', 'Value at Risk']))"
   ]
  },
  {
   "cell_type": "markdown",
   "metadata": {},
   "source": [
    "The daily VaR of the Apple Inc. stock at 90%, 95%, and 99% confidence levels are -1.56%, -2.04% and -2.93% respectively."
   ]
  },
  {
   "cell_type": "markdown",
   "metadata": {},
   "source": [
    "## Variance-Covariance Method for a portfolio VaR\n",
    "\n",
    "Similar, to single stock VaR, we can calculate the portfolio VaR using the following steps:\n",
    "1. Read the close price data of all the stocks in a portfolio and store it into a data frame\n",
    "2. Calculate the daily returns of all the stock in the portfolio\n",
    "3. Add all the stock returns to compute portfolio returns. Here we have assumed equal allocation to all the stocks in the portfolio\n",
    "4. Calculate parameters such as standard deviation and mean\n",
    "5. Based on these parameters, we plot a normal curve against the daily returns \n",
    "6. From the normal curve, we get the VaR for the different confidence levels"
   ]
  },
  {
   "cell_type": "markdown",
   "metadata": {},
   "source": [
    "## Import the portfolio data\n",
    "\n",
    "We define a portfolio with the following stocks namely Google, Tesla, IBM, Apple, Alibaba, Goldman Sachs, and Bank of America.\n",
    "Then, we read the close price data for all the stocks in the portfolio and calculate the portfolio daily returns."
   ]
  },
  {
   "cell_type": "code",
   "execution_count": 5,
   "metadata": {},
   "outputs": [
    {
     "data": {
      "image/png": "[encoded data removed]",
      "text/plain": [
       "<Figure size 432x288 with 1 Axes>"
      ]
     },
     "metadata": {
      "needs_background": "light"
     },
     "output_type": "display_data"
    }
   ],
   "source": [
    "portfolio = pd.read_csv('../data_modules/closeprice.csv')\n",
    "portfolio.set_index('Date', inplace=True)\n",
    "portfolio = portfolio.pct_change()\n",
    "portfolio['returns'] = portfolio.sum(axis=1)/7\n",
    "portfolio['returns'].plot()\n",
    "plt.ylabel(\"Portfolio Returns\")\n",
    "plt.show()"
   ]
  },
  {
   "cell_type": "markdown",
   "metadata": {},
   "source": [
    "## Calculate the portfolio VaR\n",
    "We calculate the portfolio VaR in the same way as we did for a single stock."
   ]
  },
  {
   "cell_type": "code",
   "execution_count": 6,
   "metadata": {},
   "outputs": [
    {
     "data": {
      "image/png": "[encoded data removed]",
      "text/plain": [
       "<Figure size 432x288 with 1 Axes>"
      ]
     },
     "metadata": {
      "needs_background": "light"
     },
     "output_type": "display_data"
    }
   ],
   "source": [
    "mean = np.mean(portfolio['returns'])\n",
    "std_dev = np.std(portfolio['returns'])\n",
    "\n",
    "portfolio['returns'].hist(bins=40, density=True,\n",
    "                          histtype='stepfilled', alpha=0.5)\n",
    "x = np.linspace(mean - 3*std_dev, mean + 3*std_dev, 100)\n",
    "plt.plot(x, scipy.stats.norm.pdf(x, mean, std_dev), \"r\")\n",
    "plt.show()"
   ]
  },
  {
   "cell_type": "code",
   "execution_count": 7,
   "metadata": {},
   "outputs": [
    {
     "name": "stdout",
     "output_type": "stream",
     "text": [
      "Confidence Level      Value at Risk\n",
      "------------------  ---------------\n",
      "90%                        -1.22648\n",
      "95%                        -1.60176\n",
      "99%                        -2.30574\n"
     ]
    }
   ],
   "source": [
    "VaR_90 = norm.ppf(1-0.9, mean, std_dev)*100\n",
    "VaR_95 = norm.ppf(1-0.95, mean, std_dev)*100\n",
    "VaR_99 = norm.ppf(1-0.99, mean, std_dev)*100\n",
    "\n",
    "print(tabulate([['90%', VaR_90], ['95%', VaR_95], [\"99%\", VaR_99]],\n",
    "               headers=['Confidence Level', 'Value at Risk']))"
   ]
  },
  {
   "cell_type": "markdown",
   "metadata": {},
   "source": [
    "The daily portfolio VaR at 90%, 95%, and 99% confidence levels are -1.22%, -1.60% and -2.30% respectively.\n",
    "In the next unit, there will be Monte Carlo Simulation implementation in the Jupyter notebook. <br><br>"
   ]
  }
 ],
 "metadata": {
  "kernelspec": {
   "display_name": "Python 3",
   "language": "python",
   "name": "python3"
  },
  "language_info": {
   "codemirror_mode": {
    "name": "ipython",
    "version": 3
   },
   "file_extension": ".py",
   "mimetype": "text/x-python",
   "name": "python",
   "nbconvert_exporter": "python",
   "pygments_lexer": "ipython3",
   "version": "3.7.4"
  }
 },
 "nbformat": 4,
 "nbformat_minor": 2
}
