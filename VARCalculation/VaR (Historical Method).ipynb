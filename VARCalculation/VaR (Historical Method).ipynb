{
 "cells": [
  {
   "cell_type": "markdown",
   "metadata": {},
   "source": [
    "# Notebook Instructions\n",
    "<i>You can run the notebook document sequentially (one cell a time) by pressing <b> shift + enter</b>. While a cell is running, a [*] will display on the left. When it has been run, a number will display indicating the order in which it was run in the notebook [8].</i>\n",
    "\n",
    "<i>Enter edit mode by pressing <b>`Enter`</b> or using the mouse to click on a cell's editor area. Edit mode is indicated by a green cell border and a prompt showing in the editor area.</i>"
   ]
  },
  {
   "cell_type": "markdown",
   "metadata": {},
   "source": [
    "# Value at risk (VaR)\n",
    "VaR or Value at risk is defined as the ‘dollar loss’ of a particular market portfolio, which will not be exceeded during a certain period of time, with a certain level of confidence. \n",
    "\n",
    "Thus VaR has three components: \n",
    "1. A confidence level (90%, 95%, or 99%)\n",
    "2. A time period (day, month, or year) \n",
    "3. An expected loss (dollar value or in percentage)\n",
    "\n",
    "In this notebook, we will calculate the daily VaR in percentage terms using the non-parametric method that is the historical method."
   ]
  },
  {
   "cell_type": "markdown",
   "metadata": {},
   "source": [
    "## Historical method\n",
    "The historical method works with the actual historical daily returns. The underlying assumption behind this method is that history will repeat itself.\n",
    "\n",
    "The steps followed to calculate the VaR using the historical method are as follows:\n",
    "1. Read the price data of the stock into the data frame\n",
    "2. Calculate the daily returns of the stock \n",
    "3. Sort the returns from worst to best\n",
    "4. The 99th, 95th, and 90th percentile values are the VaR for 99%, 95%, and 90% confidence levels respectively"
   ]
  },
  {
   "cell_type": "markdown",
   "metadata": {},
   "source": [
    "## Import the libraries\n"
   ]
  },
  {
   "cell_type": "code",
   "execution_count": 1,
   "metadata": {},
   "outputs": [],
   "source": [
    "# Data manipulation\n",
    "import numpy as np\n",
    "import pandas as pd\n",
    "\n",
    "# Plotting \n",
    "import matplotlib.pyplot as plt\n",
    "\n",
    "# Print tabular data\n",
    "from tabulate import tabulate "
   ]
  },
  {
   "cell_type": "markdown",
   "metadata": {},
   "source": [
    "## Read the data\n",
    "We import the price data for two years for the Apple Inc. stock."
   ]
  },
  {
   "cell_type": "code",
   "execution_count": 2,
   "metadata": {},
   "outputs": [
    {
     "data": {
      "text/html": [
       "<div>\n",
       "<style scoped>\n",
       "    .dataframe tbody tr th:only-of-type {\n",
       "        vertical-align: middle;\n",
       "    }\n",
       "\n",
       "    .dataframe tbody tr th {\n",
       "        vertical-align: top;\n",
       "    }\n",
       "\n",
       "    .dataframe thead th {\n",
       "        text-align: right;\n",
       "    }\n",
       "</style>\n",
       "<table border=\"1\" class=\"dataframe\">\n",
       "  <thead>\n",
       "    <tr style=\"text-align: right;\">\n",
       "      <th></th>\n",
       "      <th>Open</th>\n",
       "      <th>High</th>\n",
       "      <th>Low</th>\n",
       "      <th>Close</th>\n",
       "      <th>Adj Close</th>\n",
       "      <th>Volume</th>\n",
       "    </tr>\n",
       "    <tr>\n",
       "      <th>Date</th>\n",
       "      <th></th>\n",
       "      <th></th>\n",
       "      <th></th>\n",
       "      <th></th>\n",
       "      <th></th>\n",
       "      <th></th>\n",
       "    </tr>\n",
       "  </thead>\n",
       "  <tbody>\n",
       "    <tr>\n",
       "      <th>2015-12-31</th>\n",
       "      <td>107.01</td>\n",
       "      <td>107.03</td>\n",
       "      <td>104.82</td>\n",
       "      <td>105.26</td>\n",
       "      <td>99.03</td>\n",
       "      <td>40635300</td>\n",
       "    </tr>\n",
       "    <tr>\n",
       "      <th>2016-01-04</th>\n",
       "      <td>102.61</td>\n",
       "      <td>105.37</td>\n",
       "      <td>102.00</td>\n",
       "      <td>105.35</td>\n",
       "      <td>99.12</td>\n",
       "      <td>67649400</td>\n",
       "    </tr>\n",
       "    <tr>\n",
       "      <th>2016-01-05</th>\n",
       "      <td>105.75</td>\n",
       "      <td>105.85</td>\n",
       "      <td>102.41</td>\n",
       "      <td>102.71</td>\n",
       "      <td>96.63</td>\n",
       "      <td>55791000</td>\n",
       "    </tr>\n",
       "    <tr>\n",
       "      <th>2016-01-06</th>\n",
       "      <td>100.56</td>\n",
       "      <td>102.37</td>\n",
       "      <td>99.87</td>\n",
       "      <td>100.70</td>\n",
       "      <td>94.74</td>\n",
       "      <td>68457400</td>\n",
       "    </tr>\n",
       "    <tr>\n",
       "      <th>2016-01-07</th>\n",
       "      <td>98.68</td>\n",
       "      <td>100.13</td>\n",
       "      <td>96.43</td>\n",
       "      <td>96.45</td>\n",
       "      <td>90.74</td>\n",
       "      <td>81094400</td>\n",
       "    </tr>\n",
       "  </tbody>\n",
       "</table>\n",
       "</div>"
      ],
      "text/plain": [
       "              Open    High     Low   Close  Adj Close    Volume\n",
       "Date                                                           \n",
       "2015-12-31  107.01  107.03  104.82  105.26      99.03  40635300\n",
       "2016-01-04  102.61  105.37  102.00  105.35      99.12  67649400\n",
       "2016-01-05  105.75  105.85  102.41  102.71      96.63  55791000\n",
       "2016-01-06  100.56  102.37   99.87  100.70      94.74  68457400\n",
       "2016-01-07   98.68  100.13   96.43   96.45      90.74  81094400"
      ]
     },
     "execution_count": 2,
     "metadata": {},
     "output_type": "execute_result"
    }
   ],
   "source": [
    "df = pd.read_csv('../data_modules/AAPL_new.csv')   \n",
    "df.set_index(\"Date\",inplace=True)\n",
    "df.head()"
   ]
  },
  {
   "cell_type": "markdown",
   "metadata": {},
   "source": [
    "## Compute daily returns\n",
    "We calculate the daily returns for the stock and then plot the histogram of the daily returns."
   ]
  },
  {
   "cell_type": "code",
   "execution_count": 3,
   "metadata": {},
   "outputs": [
    {
     "data": {
      "image/png": "[encoded data removed]",
      "text/plain": [
       "<Figure size 432x288 with 1 Axes>"
      ]
     },
     "metadata": {
      "needs_background": "light"
     },
     "output_type": "display_data"
    }
   ],
   "source": [
    "df['returns'] = df.Close.pct_change()\n",
    "df = df.dropna()\n",
    "plt.hist(df.returns, bins=40)\n",
    "plt.xlabel('Returns')\n",
    "plt.ylabel('Fequency')\n",
    "plt.grid(True)\n",
    "plt.show()"
   ]
  },
  {
   "cell_type": "markdown",
   "metadata": {},
   "source": [
    "The above histogram represents the frequency of daily returns over the two years. At the extreme left, there are tiny bars. This means there are only a few days where the loss is less than -4%. "
   ]
  },
  {
   "cell_type": "markdown",
   "metadata": {},
   "source": [
    "## Compute the VaR\n",
    "\n",
    "We first sort the returns from worst to best and then compute the VaR for 90%, 95%, and 99% confidence levels. Here we will use quantile function to get the VaR for the different confidence levels. "
   ]
  },
  {
   "cell_type": "code",
   "execution_count": 4,
   "metadata": {},
   "outputs": [
    {
     "name": "stdout",
     "output_type": "stream",
     "text": [
      "Confidence Level      Value at Risk\n",
      "------------------  ---------------\n",
      "90%                      -0.0125768\n",
      "95%                      -0.0206909\n",
      "99%                      -0.0335154\n"
     ]
    }
   ],
   "source": [
    "df.sort_values('returns', inplace= True, ascending = True)\n",
    "\n",
    "VaR_90= df['returns'].quantile(0.1)\n",
    "VaR_95= df['returns'].quantile(0.05)\n",
    "VaR_99= df['returns'].quantile(0.01)\n",
    "\n",
    "print(tabulate([['90%', VaR_90], ['95%', VaR_95], [\"99%\", VaR_99]], headers=['Confidence Level', 'Value at Risk']))"
   ]
  },
  {
   "cell_type": "markdown",
   "metadata": {},
   "source": [
    "The daily VaR for the Apple Inc. stock at 90%, 95% and 99% confidence levels are -1.26%, -2.07% and -3.35% respectively."
   ]
  },
  {
   "cell_type": "markdown",
   "metadata": {},
   "source": [
    "## Historical method for a portfolio VaR\n",
    "\n",
    "Similar, to single stock VaR, we can calculate the portfolio VaR using the following steps:\n",
    "1. Read the price data of all the stocks in a portfolio and store it into a data frame\n",
    "2. Calculate the daily returns of all the stock in the portfolio\n",
    "3. Add all the stock returns to compute portfolio returns. Here we have assumed equal allocation to all the stocks in the portfolio\n",
    "3. Sort the portfolio returns from worst to best\n",
    "4. The 99th, 95th, and 90th percentile values are the VaR for 99%, 95%, and 90% confidence levels respectively"
   ]
  },
  {
   "cell_type": "markdown",
   "metadata": {},
   "source": [
    "## Read the portfolio data\n",
    "\n",
    "We define a portfolio with following stocks namely Google, Tesla, IBM, Apple, Alibaba, Goldman Sachs, and Bank of America.\n",
    "Then, we read the price data for all the stocks in the portfolio, calculate the portfolio daily returns and plot the histogram of the portfolio daily returns."
   ]
  },
  {
   "cell_type": "code",
   "execution_count": 5,
   "metadata": {},
   "outputs": [
    {
     "data": {
      "image/png": "[encoded data removed]",
      "text/plain": [
       "<Figure size 432x288 with 1 Axes>"
      ]
     },
     "metadata": {
      "needs_background": "light"
     },
     "output_type": "display_data"
    }
   ],
   "source": [
    "portfolio = pd.read_csv('../data_modules/closeprice.csv')\n",
    "portfolio.set_index(\"Date\",inplace=True)\n",
    "portfolio = portfolio.pct_change()\n",
    "portfolio['returns'] = portfolio.sum(axis=1)/7\n",
    "\n",
    "portfolio = portfolio.dropna()\n",
    "plt.hist(portfolio.returns, bins=40)\n",
    "plt.xlabel('Returns')\n",
    "plt.ylabel('Fequency')\n",
    "plt.grid(True)\n",
    "plt.show()\n",
    "plt.show()"
   ]
  },
  {
   "cell_type": "markdown",
   "metadata": {},
   "source": [
    "## Calculate the portfolio VaR\n",
    "Sort the returns from worst to best and calculate the VaR for 90%, 95%, and 99% confidence levels."
   ]
  },
  {
   "cell_type": "code",
   "execution_count": 6,
   "metadata": {},
   "outputs": [
    {
     "name": "stdout",
     "output_type": "stream",
     "text": [
      "Confidence Level      Value at Risk\n",
      "------------------  ---------------\n",
      "90%                      -0.0109315\n",
      "95%                      -0.0164425\n",
      "99%                      -0.0296384\n"
     ]
    }
   ],
   "source": [
    "portfolio.sort_values('returns', inplace = True, ascending = True)\n",
    "\n",
    "VaR_90 = portfolio['returns'].quantile(0.1)\n",
    "VaR_95 = portfolio['returns'].quantile(0.05)\n",
    "VaR_99 = portfolio['returns'].quantile(0.01)\n",
    "\n",
    "print(tabulate([['90%', VaR_90], ['95%', VaR_95], [\"99%\", VaR_99]], headers=['Confidence Level', 'Value at Risk']))"
   ]
  },
  {
   "cell_type": "markdown",
   "metadata": {
    "collapsed": true
   },
   "source": [
    "The portfolio VaR at 90%, 95% and 99% confidence levels are -1.09%, -1.64% and -2.96% respectively. As seen, the portfolio VaR is less than VaR for Apple Inc. The reason for this is a diversified portfolio helps to reduce the stock specific risk.\n",
    "In the next unit, there will be an interactive exercise. All the best!\n",
    "<BR>"
   ]
  }
 ],
 "metadata": {
  "kernelspec": {
   "display_name": "Python 3",
   "language": "python",
   "name": "python3"
  },
  "language_info": {
   "codemirror_mode": {
    "name": "ipython",
    "version": 3
   },
   "file_extension": ".py",
   "mimetype": "text/x-python",
   "name": "python",
   "nbconvert_exporter": "python",
   "pygments_lexer": "ipython3",
   "version": "3.7.4"
  }
 },
 "nbformat": 4,
 "nbformat_minor": 2
}
