{
 "cells": [
  {
   "cell_type": "markdown",
   "metadata": {},
   "source": [
    "# Notebook Instructions\n",
    "<i>You can run the notebook document sequentially (one cell a time) by pressing <b> shift + enter</b>. While a cell is running, a [*] will display on the left. When it has been run, a number will display indicating the order in which it was run in the notebook [8].</i>\n",
    "\n",
    "<i>Enter edit mode by pressing <b>`Enter`</b> or using the mouse to click on a cell's editor area. Edit mode is indicated by a green cell border and a prompt showing in the editor area.</i>"
   ]
  },
  {
   "cell_type": "markdown",
   "metadata": {},
   "source": [
    "# Monte Carlo Simulation\n",
    "\n",
    "Monte Carlo simulation is another non-parametric method to calculate VaR which corresponds to an algorithm that generates random numbers (stocks returns). We run a Monte Carlo simulation based on a geometric Brownian motion to get stock returns. It is important to note that, in each simulation, we would get a different result, although it is highly likely that differences would be narrow. Then we arrange the randomly generated stocks return from worst to best and compute VaR for 90%, 95%, and 99% confidence levels, similar to the historical approach."
   ]
  },
  {
   "cell_type": "markdown",
   "metadata": {},
   "source": [
    "## Importing the libraries"
   ]
  },
  {
   "cell_type": "code",
   "execution_count": 1,
   "metadata": {},
   "outputs": [],
   "source": [
    "# Data manipulation\n",
    "import numpy as np\n",
    "import pandas as pd\n",
    "import numpy.random as npr\n",
    "\n",
    "# Plotting \n",
    "import matplotlib.pyplot as plt\n",
    "import seaborn\n",
    "\n",
    "# Tabular data output\n",
    "from tabulate import tabulate"
   ]
  },
  {
   "cell_type": "markdown",
   "metadata": {},
   "source": [
    "## Simulate daily returns\n",
    "\n",
    "The stock daily returns are simulated by geometric Brownian motion. The steps followed are as follows:\n",
    "1. Define the paramters required to generate random stock returns\n",
    "2. Generate random stock returns\n",
    "3. Sort and plot the histogram of the returns"
   ]
  },
  {
   "cell_type": "code",
   "execution_count": 2,
   "metadata": {
    "scrolled": true
   },
   "outputs": [
    {
     "data": {
      "image/png": "[encoded data removed]",
      "text/plain": [
       "<Figure size 432x288 with 1 Axes>"
      ]
     },
     "metadata": {
      "needs_background": "light"
     },
     "output_type": "display_data"
    }
   ],
   "source": [
    "# Parameters\n",
    "S0 = 100         # Stock price at T0\n",
    "mean = 0.0         \n",
    "sigma = 0.20      \n",
    "T = 1/365.      # Time period\n",
    "I = 500        # Number of Simulations\n",
    "\n",
    "# Generate returns & sort\n",
    "ST = S0 * np.exp((mean - 0.5 * sigma ** 2) * T + sigma * np.sqrt (T) * npr.standard_normal(I))\n",
    "R_gbm = np.sort(ST - S0)\n",
    "\n",
    "# Plot the histogram of the returns\n",
    "plt.hist(R_gbm, bins=20)\n",
    "plt.xlabel('Returns')\n",
    "plt.ylabel('Fequency')\n",
    "plt.grid(True)\n",
    "plt.show()"
   ]
  },
  {
   "cell_type": "markdown",
   "metadata": {},
   "source": [
    "## Calculate the VaR\n",
    "\n",
    "Calculate VaR using numpy percentile function."
   ]
  },
  {
   "cell_type": "code",
   "execution_count": 3,
   "metadata": {},
   "outputs": [
    {
     "name": "stdout",
     "output_type": "stream",
     "text": [
      "Confidence Level      Value at Risk\n",
      "------------------  ---------------\n",
      "90%                        -2.46837\n",
      "95%                        -2.47505\n",
      "99%                        -2.4804\n"
     ]
    }
   ],
   "source": [
    "VaR_90 = np.percentile(R_gbm,0.1)\n",
    "VaR_95 = np.percentile(R_gbm,0.05)\n",
    "VaR_99 = np.percentile(R_gbm,0.01)\n",
    "\n",
    "print(tabulate([['90%', VaR_90], ['95%', VaR_95], [\"99%\", VaR_99]], headers=['Confidence Level', 'Value at Risk']))"
   ]
  },
  {
   "cell_type": "markdown",
   "metadata": {},
   "source": [
    "It is important to note that, in each simulation, we would get a different result.\n",
    "In the next unit, there will be MCQ exercise. All the best!<br><br>"
   ]
  }
 ],
 "metadata": {
  "kernelspec": {
   "display_name": "Python 3",
   "language": "python",
   "name": "python3"
  },
  "language_info": {
   "codemirror_mode": {
    "name": "ipython",
    "version": 3
   },
   "file_extension": ".py",
   "mimetype": "text/x-python",
   "name": "python",
   "nbconvert_exporter": "python",
   "pygments_lexer": "ipython3",
   "version": "3.7.4"
  }
 },
 "nbformat": 4,
 "nbformat_minor": 2
}
