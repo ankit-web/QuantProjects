{
 "cells": [
  {
   "cell_type": "markdown",
   "metadata": {},
   "source": [
    "# QF605 Fixed-Income Securities\n",
    "## Part 1 - Bootstrapping Swap Curves\n",
    "#### Prepared by: Zhang Shuxin, Jiang Shuang, Ong Shi Xin, Victor Kow, Wang Bo, Ankit Rawat, Sun Jianyun"
   ]
  },
  {
   "cell_type": "code",
   "execution_count": 70,
   "metadata": {},
   "outputs": [],
   "source": [
    "import pandas as pd\n",
    "import numpy as np\n",
    "import matplotlib.pyplot as plt\n",
    "from scipy.optimize import fsolve, brentq\n",
    "\n",
    "import warnings\n",
    "warnings.filterwarnings(\"ignore\")"
   ]
  },
  {
   "cell_type": "code",
   "execution_count": 71,
   "metadata": {},
   "outputs": [],
   "source": [
    "data=pd.read_excel('IR Data.xlsx',sheet_name='OIS')"
   ]
  },
  {
   "cell_type": "code",
   "execution_count": 72,
   "metadata": {},
   "outputs": [],
   "source": [
    "data['Tenor'] = data['Tenor'].apply(lambda x: (float(x[0:-1])/12 if x[-1] == 'm' else float((x[0:-1]))))"
   ]
  },
  {
   "cell_type": "markdown",
   "metadata": {},
   "source": [
    "### 1. OIS Calibration"
   ]
  },
  {
   "cell_type": "code",
   "execution_count": 73,
   "metadata": {},
   "outputs": [],
   "source": [
    "# calculate the discount_factor for the tenor 0.5\n",
    "DF_ = [1/(1+0.5*data.Rate[0])]"
   ]
  },
  {
   "cell_type": "code",
   "execution_count": 74,
   "metadata": {},
   "outputs": [],
   "source": [
    "# focous on the tenor\n",
    "tenor_list = [1, 2, 3, 4, 5, 7, 10, 15, 20, 30]\n",
    "OIS_list = list(data.Rate[1:])\n",
    "DF = []"
   ]
  },
  {
   "cell_type": "code",
   "execution_count": 75,
   "metadata": {},
   "outputs": [],
   "source": [
    "def interpolate(T, pre_tenor, DF_new, DF):\n",
    "    missing_tenor = list(range(pre_tenor + 1, T))\n",
    "    return np.interp(missing_tenor, [pre_tenor, T], [DF[-1], DF_new])"
   ]
  },
  {
   "cell_type": "code",
   "execution_count": 76,
   "metadata": {},
   "outputs": [],
   "source": [
    "def discount_factor(DF_new, T):\n",
    "    DF_sum = sum(DF)\n",
    "    if T <= 5:\n",
    "        Fix = (DF_sum + DF_new) * OIS_list[tenor_list.index(T)]\n",
    "    else:\n",
    "        pre_tenor = tenor_list[tenor_list.index(T)-1]\n",
    "        DF_inter = interpolate(T, pre_tenor, DF_new, DF)\n",
    "        Fix = (DF_sum + DF_new + DF_inter.sum())* OIS_list[tenor_list.index(T)]\n",
    "    Float = 1 - DF_new\n",
    "    return Fix - Float"
   ]
  },
  {
   "cell_type": "code",
   "execution_count": 77,
   "metadata": {},
   "outputs": [],
   "source": [
    "for i in tenor_list:\n",
    "    DF_new = brentq(lambda x: discount_factor(x, i), 0.1, 1)\n",
    "    if i <=5:\n",
    "        DF.append(DF_new)\n",
    "    else:\n",
    "        pre_tenor = tenor_list[tenor_list.index(i)-1]\n",
    "        inter = interpolate(i, pre_tenor, DF_new, DF)\n",
    "        DF.extend(inter)\n",
    "        DF.append(DF_new)"
   ]
  },
  {
   "cell_type": "code",
   "execution_count": 78,
   "metadata": {},
   "outputs": [],
   "source": [
    "DF_list = []\n",
    "for x in tenor_list:\n",
    "    DF_list.append(DF[x-1])"
   ]
  },
  {
   "cell_type": "code",
   "execution_count": 79,
   "metadata": {},
   "outputs": [],
   "source": [
    "# get the discount factor list from tenor 0.5, 1, till 30\n",
    "DF_.extend(DF_list)"
   ]
  },
  {
   "cell_type": "code",
   "execution_count": 80,
   "metadata": {},
   "outputs": [
    {
     "data": {
      "text/html": [
       "<div>\n",
       "<style scoped>\n",
       "    .dataframe tbody tr th:only-of-type {\n",
       "        vertical-align: middle;\n",
       "    }\n",
       "\n",
       "    .dataframe tbody tr th {\n",
       "        vertical-align: top;\n",
       "    }\n",
       "\n",
       "    .dataframe thead th {\n",
       "        text-align: right;\n",
       "    }\n",
       "</style>\n",
       "<table border=\"1\" class=\"dataframe\">\n",
       "  <thead>\n",
       "    <tr style=\"text-align: right;\">\n",
       "      <th></th>\n",
       "      <th>Tenor</th>\n",
       "      <th>OIS</th>\n",
       "      <th>OIS_DF</th>\n",
       "    </tr>\n",
       "  </thead>\n",
       "  <tbody>\n",
       "    <tr>\n",
       "      <th>0</th>\n",
       "      <td>0.5</td>\n",
       "      <td>0.00250</td>\n",
       "      <td>0.998752</td>\n",
       "    </tr>\n",
       "    <tr>\n",
       "      <th>1</th>\n",
       "      <td>1.0</td>\n",
       "      <td>0.00300</td>\n",
       "      <td>0.997009</td>\n",
       "    </tr>\n",
       "    <tr>\n",
       "      <th>2</th>\n",
       "      <td>2.0</td>\n",
       "      <td>0.00325</td>\n",
       "      <td>0.993531</td>\n",
       "    </tr>\n",
       "    <tr>\n",
       "      <th>3</th>\n",
       "      <td>3.0</td>\n",
       "      <td>0.00335</td>\n",
       "      <td>0.990015</td>\n",
       "    </tr>\n",
       "    <tr>\n",
       "      <th>4</th>\n",
       "      <td>4.0</td>\n",
       "      <td>0.00350</td>\n",
       "      <td>0.986117</td>\n",
       "    </tr>\n",
       "    <tr>\n",
       "      <th>5</th>\n",
       "      <td>5.0</td>\n",
       "      <td>0.00360</td>\n",
       "      <td>0.982184</td>\n",
       "    </tr>\n",
       "    <tr>\n",
       "      <th>6</th>\n",
       "      <td>7.0</td>\n",
       "      <td>0.00400</td>\n",
       "      <td>0.972406</td>\n",
       "    </tr>\n",
       "    <tr>\n",
       "      <th>7</th>\n",
       "      <td>10.0</td>\n",
       "      <td>0.00450</td>\n",
       "      <td>0.955977</td>\n",
       "    </tr>\n",
       "    <tr>\n",
       "      <th>8</th>\n",
       "      <td>15.0</td>\n",
       "      <td>0.00500</td>\n",
       "      <td>0.927611</td>\n",
       "    </tr>\n",
       "    <tr>\n",
       "      <th>9</th>\n",
       "      <td>20.0</td>\n",
       "      <td>0.00525</td>\n",
       "      <td>0.900076</td>\n",
       "    </tr>\n",
       "    <tr>\n",
       "      <th>10</th>\n",
       "      <td>30.0</td>\n",
       "      <td>0.00550</td>\n",
       "      <td>0.847407</td>\n",
       "    </tr>\n",
       "  </tbody>\n",
       "</table>\n",
       "</div>"
      ],
      "text/plain": [
       "    Tenor      OIS    OIS_DF\n",
       "0     0.5  0.00250  0.998752\n",
       "1     1.0  0.00300  0.997009\n",
       "2     2.0  0.00325  0.993531\n",
       "3     3.0  0.00335  0.990015\n",
       "4     4.0  0.00350  0.986117\n",
       "5     5.0  0.00360  0.982184\n",
       "6     7.0  0.00400  0.972406\n",
       "7    10.0  0.00450  0.955977\n",
       "8    15.0  0.00500  0.927611\n",
       "9    20.0  0.00525  0.900076\n",
       "10   30.0  0.00550  0.847407"
      ]
     },
     "execution_count": 80,
     "metadata": {},
     "output_type": "execute_result"
    }
   ],
   "source": [
    "OIS_DF_table = pd.DataFrame({'Tenor': data.Tenor, 'OIS': data.Rate, 'OIS_DF':DF_})\n",
    "OIS_DF_table"
   ]
  },
  {
   "cell_type": "code",
   "execution_count": 81,
   "metadata": {},
   "outputs": [
    {
     "data": {
      "image/png": "[encoded data removed]",
      "text/plain": [
       "<Figure size 432x288 with 1 Axes>"
      ]
     },
     "metadata": {
      "needs_background": "light"
     },
     "output_type": "display_data"
    }
   ],
   "source": [
    "plt.scatter(data.Tenor, DF_, c = 'r')\n",
    "plt.plot(data.Tenor, DF_)\n",
    "plt.grid()\n",
    "plt.ylabel('OIS Discount Factor')\n",
    "plt.xlabel('T')\n",
    "plt.title('Discount Curve');"
   ]
  },
  {
   "cell_type": "markdown",
   "metadata": {},
   "source": [
    "### 2. Bootstrapping LIBOR discount curve"
   ]
  },
  {
   "cell_type": "code",
   "execution_count": 82,
   "metadata": {},
   "outputs": [],
   "source": [
    "IRS =pd.read_excel('IR Data.xlsx',sheet_name='IRS')"
   ]
  },
  {
   "cell_type": "code",
   "execution_count": 83,
   "metadata": {},
   "outputs": [],
   "source": [
    "IRS['Tenor'] = IRS['Tenor'].apply(lambda x: (float(x[0:-1])/12 if x[-1] == 'm' else float((x[0:-1]))))"
   ]
  },
  {
   "cell_type": "code",
   "execution_count": 84,
   "metadata": {},
   "outputs": [],
   "source": [
    "# set up a new dataframe to store semi-annual discount factors\n",
    "df=pd.DataFrame(np.zeros((60,2)),columns=['Tenor','OIS_DF'])\n",
    "df['Tenor'] = np.linspace(0.5, 30, 60)"
   ]
  },
  {
   "cell_type": "code",
   "execution_count": 85,
   "metadata": {},
   "outputs": [],
   "source": [
    "# store the yearly OIS discount factor in a dataframe\n",
    "ois_df = pd.DataFrame([np.arange(1, 31), DF]).T\n",
    "ois_df.rename(columns = {0: 'Tenor', 1:'ois_df'}, inplace = True)"
   ]
  },
  {
   "cell_type": "code",
   "execution_count": 86,
   "metadata": {},
   "outputs": [],
   "source": [
    "df = df.set_index('Tenor')\n",
    "ois_df = ois_df.set_index('Tenor')"
   ]
  },
  {
   "cell_type": "code",
   "execution_count": 87,
   "metadata": {},
   "outputs": [],
   "source": [
    "df['OIS_DF'] = ois_df['ois_df']"
   ]
  },
  {
   "cell_type": "code",
   "execution_count": 88,
   "metadata": {},
   "outputs": [],
   "source": [
    "# store in the 6m tenor OIS discount factor\n",
    "df.iloc[0, 0] = 1/(1+0.5*data.Rate[0])"
   ]
  },
  {
   "cell_type": "code",
   "execution_count": 89,
   "metadata": {},
   "outputs": [],
   "source": [
    "# interpolate to get the full OIS discount factor\n",
    "df['OIS_DF'] = df['OIS_DF'].interpolate()\n",
    "DF_OIS = df['OIS_DF'].tolist()"
   ]
  },
  {
   "cell_type": "code",
   "execution_count": 90,
   "metadata": {},
   "outputs": [],
   "source": [
    "def interpolate_new(T, DF_new, DF_Libor):\n",
    "    pre_tenor = tenor_list[tenor_list.index(T)-1]\n",
    "    missing_tenor = np.arange(pre_tenor, T, 0.5)[1:]\n",
    "    missing_DF = np.interp(missing_tenor, [pre_tenor, T], [DF_Libor[-1], DF_new])\n",
    "    return missing_DF"
   ]
  },
  {
   "cell_type": "code",
   "execution_count": 91,
   "metadata": {},
   "outputs": [],
   "source": [
    "# this is the funciton gonna use\n",
    "def finding_new(T, DF_OIS, DF_Libor, DF_new):    \n",
    "    \n",
    "   \n",
    "    DF_sum = sum(DF_OIS[:int(2*T)])\n",
    "    \n",
    "    Fix = 0.5 * DF_sum * IRS[IRS.Tenor == T]['Rate']\n",
    "    \n",
    "    \n",
    "    if T == 0.5: \n",
    "        \n",
    "        Float_sum = DF_OIS[0] * (1-DF_new)/DF_new \n",
    "    \n",
    "    elif T == 1:\n",
    "        Float1 = DF_OIS[0] * 0.025 * 0.5\n",
    "        #Float1 = DF_OIS[0] * (1 - DF_Libor[0]) / DF_Libor[0]\n",
    "        Float2 = DF_OIS[1] * (DF_Libor[-1] - DF_new) / DF_new\n",
    "        Float_sum = Float1 + Float2\n",
    "        \n",
    "    else:\n",
    "    \n",
    "        dis_inter = interpolate_new(T, DF_new, DF_Libor)\n",
    "        a = DF_Libor + list(dis_inter)\n",
    "        \n",
    "        Float1 = DF_OIS[0]*(1-a[0])/a[0]\n",
    "        \n",
    "        Float2 = 0\n",
    "        \n",
    "        for i in range(1, int(2*T-1)):\n",
    "            \n",
    "            Float2 += DF_OIS[i] * ((a[i-1] - a[i])/a[i])\n",
    "    \n",
    "    #Float3 = DF_OIS[T]*(DF_Libor[-1]-dis_inter[0])/dis_inter[0]\n",
    "                \n",
    "        Float_sum = Float1 + Float2 + DF_OIS[2*T-1] * ((a[-1] - DF_new) / DF_new)\n",
    "            \n",
    "    \n",
    "    return Fix - Float_sum"
   ]
  },
  {
   "cell_type": "code",
   "execution_count": 92,
   "metadata": {},
   "outputs": [],
   "source": [
    "tenor_list = [0.5, 1, 2, 3, 4, 5, 7, 10, 15, 20, 30]"
   ]
  },
  {
   "cell_type": "code",
   "execution_count": 93,
   "metadata": {},
   "outputs": [],
   "source": [
    "DF_Libor = []\n",
    "for i in tenor_list:\n",
    "    df_new = brentq(lambda x : finding_new(i, DF_OIS, DF_Libor, x), 0.0001, 1)\n",
    "    if i <= 1:\n",
    "        DF_Libor.append(df_new)\n",
    "    else:\n",
    "        dis_inter = interpolate_new(i, df_new, DF_Libor)\n",
    "        DF_Libor.extend(dis_inter)\n",
    "        DF_Libor.append(df_new)"
   ]
  },
  {
   "cell_type": "code",
   "execution_count": 94,
   "metadata": {},
   "outputs": [],
   "source": [
    "df['Libor_DF'] = DF_Libor"
   ]
  },
  {
   "cell_type": "code",
   "execution_count": 95,
   "metadata": {},
   "outputs": [],
   "source": [
    "df = df.reset_index()"
   ]
  },
  {
   "cell_type": "code",
   "execution_count": 96,
   "metadata": {},
   "outputs": [],
   "source": [
    "all_df = df.loc[df.Tenor.isin(IRS['Tenor'])]"
   ]
  },
  {
   "cell_type": "code",
   "execution_count": 97,
   "metadata": {},
   "outputs": [
    {
     "data": {
      "text/html": [
       "<div>\n",
       "<style scoped>\n",
       "    .dataframe tbody tr th:only-of-type {\n",
       "        vertical-align: middle;\n",
       "    }\n",
       "\n",
       "    .dataframe tbody tr th {\n",
       "        vertical-align: top;\n",
       "    }\n",
       "\n",
       "    .dataframe thead th {\n",
       "        text-align: right;\n",
       "    }\n",
       "</style>\n",
       "<table border=\"1\" class=\"dataframe\">\n",
       "  <thead>\n",
       "    <tr style=\"text-align: right;\">\n",
       "      <th></th>\n",
       "      <th>Tenor</th>\n",
       "      <th>OIS_DF</th>\n",
       "      <th>Libor_DF</th>\n",
       "    </tr>\n",
       "  </thead>\n",
       "  <tbody>\n",
       "    <tr>\n",
       "      <th>0</th>\n",
       "      <td>0.5</td>\n",
       "      <td>0.998752</td>\n",
       "      <td>0.987654</td>\n",
       "    </tr>\n",
       "    <tr>\n",
       "      <th>1</th>\n",
       "      <td>1.0</td>\n",
       "      <td>0.997009</td>\n",
       "      <td>0.972577</td>\n",
       "    </tr>\n",
       "    <tr>\n",
       "      <th>3</th>\n",
       "      <td>2.0</td>\n",
       "      <td>0.993531</td>\n",
       "      <td>0.942179</td>\n",
       "    </tr>\n",
       "    <tr>\n",
       "      <th>5</th>\n",
       "      <td>3.0</td>\n",
       "      <td>0.990015</td>\n",
       "      <td>0.910482</td>\n",
       "    </tr>\n",
       "    <tr>\n",
       "      <th>7</th>\n",
       "      <td>4.0</td>\n",
       "      <td>0.986117</td>\n",
       "      <td>0.878981</td>\n",
       "    </tr>\n",
       "    <tr>\n",
       "      <th>9</th>\n",
       "      <td>5.0</td>\n",
       "      <td>0.982184</td>\n",
       "      <td>0.848989</td>\n",
       "    </tr>\n",
       "    <tr>\n",
       "      <th>13</th>\n",
       "      <td>7.0</td>\n",
       "      <td>0.972406</td>\n",
       "      <td>0.784216</td>\n",
       "    </tr>\n",
       "    <tr>\n",
       "      <th>19</th>\n",
       "      <td>10.0</td>\n",
       "      <td>0.955977</td>\n",
       "      <td>0.692710</td>\n",
       "    </tr>\n",
       "    <tr>\n",
       "      <th>29</th>\n",
       "      <td>15.0</td>\n",
       "      <td>0.927611</td>\n",
       "      <td>0.551081</td>\n",
       "    </tr>\n",
       "    <tr>\n",
       "      <th>39</th>\n",
       "      <td>20.0</td>\n",
       "      <td>0.900076</td>\n",
       "      <td>0.408218</td>\n",
       "    </tr>\n",
       "    <tr>\n",
       "      <th>59</th>\n",
       "      <td>30.0</td>\n",
       "      <td>0.847407</td>\n",
       "      <td>0.223662</td>\n",
       "    </tr>\n",
       "  </tbody>\n",
       "</table>\n",
       "</div>"
      ],
      "text/plain": [
       "    Tenor    OIS_DF  Libor_DF\n",
       "0     0.5  0.998752  0.987654\n",
       "1     1.0  0.997009  0.972577\n",
       "3     2.0  0.993531  0.942179\n",
       "5     3.0  0.990015  0.910482\n",
       "7     4.0  0.986117  0.878981\n",
       "9     5.0  0.982184  0.848989\n",
       "13    7.0  0.972406  0.784216\n",
       "19   10.0  0.955977  0.692710\n",
       "29   15.0  0.927611  0.551081\n",
       "39   20.0  0.900076  0.408218\n",
       "59   30.0  0.847407  0.223662"
      ]
     },
     "execution_count": 97,
     "metadata": {},
     "output_type": "execute_result"
    }
   ],
   "source": [
    "all_df"
   ]
  },
  {
   "cell_type": "code",
   "execution_count": 98,
   "metadata": {},
   "outputs": [
    {
     "data": {
      "image/png": "[encoded data removed]",
      "text/plain": [
       "<Figure size 432x288 with 1 Axes>"
      ]
     },
     "metadata": {
      "needs_background": "light"
     },
     "output_type": "display_data"
    }
   ],
   "source": [
    "plt.plot(all_df.Tenor, all_df['Libor_DF'])\n",
    "plt.scatter(all_df.Tenor,all_df['Libor_DF'], c = 'r')\n",
    "plt.grid()\n",
    "plt.ylabel('Libor Discount Factor')\n",
    "plt.xlabel('T')\n",
    "plt.title('Libor Discount Curve');"
   ]
  },
  {
   "cell_type": "code",
   "execution_count": 99,
   "metadata": {},
   "outputs": [],
   "source": [
    "df.to_csv('discount_factor.csv', index = False)"
   ]
  },
  {
   "cell_type": "markdown",
   "metadata": {},
   "source": [
    "### 3. Forward Swap Rate Calculations"
   ]
  },
  {
   "cell_type": "code",
   "execution_count": 100,
   "metadata": {},
   "outputs": [],
   "source": [
    "Expiry = ['1Y', '5Y', '10Y']\n",
    "Tenor = ['1Y', \"2Y\", '3Y', '5Y', '10Y']"
   ]
  },
  {
   "cell_type": "code",
   "execution_count": 101,
   "metadata": {},
   "outputs": [],
   "source": [
    "fsw = []\n",
    "for ex in Expiry:\n",
    "    for te in Tenor:\n",
    "        i = int(ex.strip()[:-1])\n",
    "        j = int(te.strip()[:-1])\n",
    "        deno = 0.5*sum(df.OIS_DF[2*i:2*(i+j)])\n",
    "        \n",
    "        terms = []\n",
    "        for x in range(2*i, 2*(i+j)):\n",
    "            no = df.OIS_DF[x] * (df.Libor_DF[x-1] - df.Libor_DF[x])/df.Libor_DF[x]\n",
    "            terms.append(no)\n",
    "        numer = sum(terms)\n",
    "        \n",
    "        fsw.append(numer/deno)"
   ]
  },
  {
   "cell_type": "code",
   "execution_count": 102,
   "metadata": {},
   "outputs": [
    {
     "data": {
      "text/html": [
       "<div>\n",
       "<style scoped>\n",
       "    .dataframe tbody tr th:only-of-type {\n",
       "        vertical-align: middle;\n",
       "    }\n",
       "\n",
       "    .dataframe tbody tr th {\n",
       "        vertical-align: top;\n",
       "    }\n",
       "\n",
       "    .dataframe thead th {\n",
       "        text-align: right;\n",
       "    }\n",
       "</style>\n",
       "<table border=\"1\" class=\"dataframe\">\n",
       "  <thead>\n",
       "    <tr style=\"text-align: right;\">\n",
       "      <th></th>\n",
       "      <th>1Y</th>\n",
       "      <th>2Y</th>\n",
       "      <th>3Y</th>\n",
       "      <th>5Y</th>\n",
       "      <th>10Y</th>\n",
       "    </tr>\n",
       "  </thead>\n",
       "  <tbody>\n",
       "    <tr>\n",
       "      <th>1Y</th>\n",
       "      <td>0.032007</td>\n",
       "      <td>0.033259</td>\n",
       "      <td>0.034011</td>\n",
       "      <td>0.035255</td>\n",
       "      <td>0.038428</td>\n",
       "    </tr>\n",
       "    <tr>\n",
       "      <th>5Y</th>\n",
       "      <td>0.039274</td>\n",
       "      <td>0.040075</td>\n",
       "      <td>0.040072</td>\n",
       "      <td>0.041093</td>\n",
       "      <td>0.043634</td>\n",
       "    </tr>\n",
       "    <tr>\n",
       "      <th>10Y</th>\n",
       "      <td>0.042189</td>\n",
       "      <td>0.043116</td>\n",
       "      <td>0.044097</td>\n",
       "      <td>0.046249</td>\n",
       "      <td>0.053458</td>\n",
       "    </tr>\n",
       "  </tbody>\n",
       "</table>\n",
       "</div>"
      ],
      "text/plain": [
       "           1Y        2Y        3Y        5Y       10Y\n",
       "1Y   0.032007  0.033259  0.034011  0.035255  0.038428\n",
       "5Y   0.039274  0.040075  0.040072  0.041093  0.043634\n",
       "10Y  0.042189  0.043116  0.044097  0.046249  0.053458"
      ]
     },
     "execution_count": 102,
     "metadata": {},
     "output_type": "execute_result"
    }
   ],
   "source": [
    "fsw_array = np.array(fsw).reshape(3, 5)\n",
    "forward_swap = pd.DataFrame(fsw_array, columns = Tenor, index = Expiry)\n",
    "forward_swap"
   ]
  },
  {
   "cell_type": "code",
   "execution_count": 103,
   "metadata": {},
   "outputs": [],
   "source": [
    "forward_swap.to_csv('forward_swap_rate.csv')"
   ]
  },
  {
   "cell_type": "markdown",
   "metadata": {},
   "source": [
    "### 4. Preparing for Part II"
   ]
  },
  {
   "cell_type": "code",
   "execution_count": 104,
   "metadata": {},
   "outputs": [
    {
     "data": {
      "text/plain": [
       "0.03963437677316925"
      ]
     },
     "execution_count": 104,
     "metadata": {},
     "output_type": "execute_result"
    }
   ],
   "source": [
    "# get 2x10 forward swap rate\n",
    "deno = 0.5*sum(df.OIS_DF[2*2:2*(2+10)])\n",
    "        \n",
    "terms = []\n",
    "for x in range(2*2, 2*(2+10)):\n",
    "    no = df.OIS_DF[x] * (df.Libor_DF[x-1] - df.Libor_DF[x])/df.Libor_DF[x]\n",
    "    terms.append(no)\n",
    "numer = sum(terms)\n",
    "numer/deno"
   ]
  },
  {
   "cell_type": "code",
   "execution_count": 105,
   "metadata": {},
   "outputs": [
    {
     "data": {
      "text/plain": [
       "0.04871114894211796"
      ]
     },
     "execution_count": 105,
     "metadata": {},
     "output_type": "execute_result"
    }
   ],
   "source": [
    "# get 8x10 forward swap rate\n",
    "\n",
    "deno = 0.5*sum(df.OIS_DF[2*8:2*(8+10)])\n",
    "        \n",
    "terms = []\n",
    "for x in range(2*8, 2*(8+10)):\n",
    "    no = df.OIS_DF[x] * (df.Libor_DF[x-1] - df.Libor_DF[x])/df.Libor_DF[x]\n",
    "    terms.append(no)\n",
    "numer = sum(terms)\n",
    "\n",
    "numer/deno"
   ]
  },
  {
   "cell_type": "code",
   "execution_count": 106,
   "metadata": {},
   "outputs": [],
   "source": [
    "# saving yearly discount factor to csv\n",
    "yearly_DF = df[df.Tenor % 1 == 0]\n",
    "yearly_DF.to_csv('yearly_DF.csv')"
   ]
  },
  {
   "cell_type": "code",
   "execution_count": 107,
   "metadata": {},
   "outputs": [],
   "source": [
    "#exit()"
   ]
  }
 ],
 "metadata": {
  "kernelspec": {
   "display_name": "Python 3",
   "language": "python",
   "name": "python3"
  },
  "language_info": {
   "codemirror_mode": {
    "name": "ipython",
    "version": 3
   },
   "file_extension": ".py",
   "mimetype": "text/x-python",
   "name": "python",
   "nbconvert_exporter": "python",
   "pygments_lexer": "ipython3",
   "version": "3.8.3"
  }
 },
 "nbformat": 4,
 "nbformat_minor": 4
}
