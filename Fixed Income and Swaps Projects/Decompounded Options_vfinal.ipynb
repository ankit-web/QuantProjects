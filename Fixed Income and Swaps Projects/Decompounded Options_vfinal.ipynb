{
 "cells": [
  {
   "cell_type": "markdown",
   "metadata": {},
   "source": [
    "# QF605 Fixed-Income Securities\n",
    "## Part 4 - Decompounded Options\n",
    "#### Prepared by: Zhang Shuxin, Jiang Shuang, Ong Shi Xin, Victor Kow, Wang Bo, Ankit Rawat, Sun Jianyun"
   ]
  },
  {
   "cell_type": "code",
   "execution_count": 16,
   "metadata": {},
   "outputs": [],
   "source": [
    "import numpy as np\n",
    "import pandas as pd\n",
    "from scipy.stats import norm\n",
    "from scipy.integrate import quad\n",
    "import matplotlib.pylab as plt\n",
    "from math import log, sqrt, exp"
   ]
  },
  {
   "cell_type": "code",
   "execution_count": 17,
   "metadata": {},
   "outputs": [],
   "source": [
    "def Black76Call(S, K,disc, sigma, T):\n",
    "    d1 = (np.log(S/K)+sigma**2/2*T) / (sigma*np.sqrt(T))\n",
    "    d2 = d1 - sigma*np.sqrt(T)\n",
    "    return disc*(S*norm.cdf(d1) - K*norm.cdf(d2))\n",
    "\n",
    "def Black76Put(S, K, disc,sigma, T):\n",
    "    d1 = (np.log(S/K)+sigma**2/2*T) / (sigma*np.sqrt(T))\n",
    "    d2 = d1 - sigma*np.sqrt(T)\n",
    "    return disc*(K*norm.cdf(-d2) - S*norm.cdf(-d1))\n",
    "\n",
    "def SABR(F, K, T, alpha, beta, rho, nu):\n",
    "    X = K\n",
    "    # if K is at-the-money-forward\n",
    "    if abs(F - K) < 1e-12:\n",
    "        numer1 = (((1 - beta)**2)/24)*alpha*alpha/(F**(2 - 2*beta))\n",
    "        numer2 = 0.25*rho*beta*nu*alpha/(F**(1 - beta))\n",
    "        numer3 = ((2 - 3*rho*rho)/24)*nu*nu\n",
    "        VolAtm = alpha*(1 + (numer1 + numer2 + numer3)*T)/(F**(1-beta))\n",
    "        sabrsigma = VolAtm\n",
    "    else:\n",
    "        z = (nu/alpha)*((F*X)**(0.5*(1-beta)))*log(F/X)\n",
    "        zhi = log((((1 - 2*rho*z + z*z)**0.5) + z - rho)/(1 - rho))\n",
    "        numer1 = (((1 - beta)**2)/24)*((alpha*alpha)/((F*X)**(1 - beta)))\n",
    "        numer2 = 0.25*rho*beta*nu*alpha/((F*X)**((1 - beta)/2))\n",
    "        numer3 = ((2 - 3*rho*rho)/24)*nu*nu\n",
    "        numer = alpha*(1 + (numer1 + numer2 + numer3)*T)*z\n",
    "        denom1 = ((1 - beta)**2/24)*(log(F/X))**2\n",
    "        denom2 = (((1 - beta)**4)/1920)*((log(F/X))**4)\n",
    "        denom = ((F*X)**((1 - beta)/2))*(1 + denom1 + denom2)*zhi\n",
    "        sabrsigma = numer/denom\n",
    "\n",
    "    return sabrsigma"
   ]
  },
  {
   "cell_type": "code",
   "execution_count": 18,
   "metadata": {},
   "outputs": [],
   "source": [
    "def IRR(x,N,m):\n",
    "    IRR=np.zeros(N*m)\n",
    "    IRRS=0\n",
    "    for i in range(N*m):\n",
    "        IRR[i]= 1/m / (1+x/m)**i\n",
    "    IRRS=np.sum(IRR[:])\n",
    "    return IRRS\n",
    "\n",
    "def IRRf(x,N,m):\n",
    "    dx = 0.05 * x\n",
    "    IRRplus= IRR(x+dx,N,m)\n",
    "    IRRminus = IRR (x-dx,N,m)\n",
    "    IRRf = (IRRplus - IRRminus) / (2*dx)\n",
    "    return IRRf\n",
    "\n",
    "def IRRff(x,N,m):\n",
    "    dx = 0.05 * x\n",
    "    IRRplus= IRR(x+dx,N,m)\n",
    "    IRRx = IRR(x,N,m)\n",
    "    IRRminus = IRR (x-dx,N,m)\n",
    "    IRRff = (IRRplus - 2*IRRx + IRRminus) / (dx**2)\n",
    "    return IRRff\n",
    "\n",
    "def hf(x, N, m):\n",
    "    term1 = IRR(x, N, m) * (1/4) * x ** (-3 / 4)\n",
    "    term2 = (x ** (1/4) - 0.2) * IRRf(x, N, m)\n",
    "    return (term1 - term2) / (IRR(x, N, m)**2)\n",
    "\n",
    "def hff(x, N, m):\n",
    "    term1 = IRR(x, N, m) * (-3 / 16 * x ** (-7/4))\n",
    "    term2 = IRRff(x, N, m) * (x**(1/4) - 0.2)\n",
    "    term3 = 2 * IRRf(x, N, m) * (1/4) * x ** (-3/4)\n",
    "    term4 = 2 * IRRf(x, N, m) ** 2 * (x ** (1/4) - 0.2)\n",
    "    h = (term1 - term2 - term3) / (IRR(x,N,m)**2) + term4 / (IRR(x,N,m)**3)\n",
    "    return h\n",
    "\n",
    "def integral1(x,N,m,F,disc,sigma,T):\n",
    "    h = hff(x, N, m)\n",
    "    Vrec=Black76Put(F, x, disc, sigma, T)\n",
    "    return h*Vrec\n",
    "\n",
    "def integral2(x,N,m,F,disc,sigma,T):\n",
    "    h = hff(x, N, m)\n",
    "    Vpay=Black76Call(F, x, disc, sigma, T)\n",
    "    return h*Vpay\n",
    "\n"
   ]
  },
  {
   "cell_type": "code",
   "execution_count": 19,
   "metadata": {},
   "outputs": [],
   "source": [
    "data = pd.read_csv('CMS_10Y.csv', header = 0, index_col = 0)"
   ]
  },
  {
   "cell_type": "code",
   "execution_count": 20,
   "metadata": {},
   "outputs": [
    {
     "data": {
      "text/html": [
       "<div>\n",
       "<style scoped>\n",
       "    .dataframe tbody tr th:only-of-type {\n",
       "        vertical-align: middle;\n",
       "    }\n",
       "\n",
       "    .dataframe tbody tr th {\n",
       "        vertical-align: top;\n",
       "    }\n",
       "\n",
       "    .dataframe thead th {\n",
       "        text-align: right;\n",
       "    }\n",
       "</style>\n",
       "<table border=\"1\" class=\"dataframe\">\n",
       "  <thead>\n",
       "    <tr style=\"text-align: right;\">\n",
       "      <th></th>\n",
       "      <th>Start</th>\n",
       "      <th>Tenor</th>\n",
       "      <th>FS</th>\n",
       "      <th>DF</th>\n",
       "      <th>alpha</th>\n",
       "      <th>rho</th>\n",
       "      <th>nu</th>\n",
       "      <th>CMS</th>\n",
       "    </tr>\n",
       "  </thead>\n",
       "  <tbody>\n",
       "    <tr>\n",
       "      <th>0</th>\n",
       "      <td>0.5Y</td>\n",
       "      <td>10Y</td>\n",
       "      <td>0.037845</td>\n",
       "      <td>0.998752</td>\n",
       "      <td>0.171130</td>\n",
       "      <td>-0.264831</td>\n",
       "      <td>0.777658</td>\n",
       "      <td>0.037936</td>\n",
       "    </tr>\n",
       "    <tr>\n",
       "      <th>1</th>\n",
       "      <td>1Y</td>\n",
       "      <td>10Y</td>\n",
       "      <td>0.038428</td>\n",
       "      <td>0.997009</td>\n",
       "      <td>0.171130</td>\n",
       "      <td>-0.264831</td>\n",
       "      <td>0.777658</td>\n",
       "      <td>0.038626</td>\n",
       "    </tr>\n",
       "    <tr>\n",
       "      <th>2</th>\n",
       "      <td>1.5Y</td>\n",
       "      <td>10Y</td>\n",
       "      <td>0.039020</td>\n",
       "      <td>0.995270</td>\n",
       "      <td>0.171793</td>\n",
       "      <td>-0.286815</td>\n",
       "      <td>0.742202</td>\n",
       "      <td>0.039338</td>\n",
       "    </tr>\n",
       "    <tr>\n",
       "      <th>3</th>\n",
       "      <td>2Y</td>\n",
       "      <td>10Y</td>\n",
       "      <td>0.039634</td>\n",
       "      <td>0.993531</td>\n",
       "      <td>0.172457</td>\n",
       "      <td>-0.308799</td>\n",
       "      <td>0.706746</td>\n",
       "      <td>0.040086</td>\n",
       "    </tr>\n",
       "    <tr>\n",
       "      <th>4</th>\n",
       "      <td>2.5Y</td>\n",
       "      <td>10Y</td>\n",
       "      <td>0.040200</td>\n",
       "      <td>0.991773</td>\n",
       "      <td>0.173120</td>\n",
       "      <td>-0.330782</td>\n",
       "      <td>0.671290</td>\n",
       "      <td>0.040795</td>\n",
       "    </tr>\n",
       "    <tr>\n",
       "      <th>5</th>\n",
       "      <td>3Y</td>\n",
       "      <td>10Y</td>\n",
       "      <td>0.040788</td>\n",
       "      <td>0.990015</td>\n",
       "      <td>0.173784</td>\n",
       "      <td>-0.352766</td>\n",
       "      <td>0.635834</td>\n",
       "      <td>0.041535</td>\n",
       "    </tr>\n",
       "    <tr>\n",
       "      <th>6</th>\n",
       "      <td>3.5Y</td>\n",
       "      <td>10Y</td>\n",
       "      <td>0.041412</td>\n",
       "      <td>0.988066</td>\n",
       "      <td>0.174447</td>\n",
       "      <td>-0.374750</td>\n",
       "      <td>0.600378</td>\n",
       "      <td>0.042319</td>\n",
       "    </tr>\n",
       "    <tr>\n",
       "      <th>7</th>\n",
       "      <td>4Y</td>\n",
       "      <td>10Y</td>\n",
       "      <td>0.042062</td>\n",
       "      <td>0.986117</td>\n",
       "      <td>0.175110</td>\n",
       "      <td>-0.396734</td>\n",
       "      <td>0.564922</td>\n",
       "      <td>0.043137</td>\n",
       "    </tr>\n",
       "    <tr>\n",
       "      <th>8</th>\n",
       "      <td>4.5Y</td>\n",
       "      <td>10Y</td>\n",
       "      <td>0.042831</td>\n",
       "      <td>0.984150</td>\n",
       "      <td>0.175774</td>\n",
       "      <td>-0.418717</td>\n",
       "      <td>0.529466</td>\n",
       "      <td>0.044086</td>\n",
       "    </tr>\n",
       "    <tr>\n",
       "      <th>9</th>\n",
       "      <td>5Y</td>\n",
       "      <td>10Y</td>\n",
       "      <td>0.043634</td>\n",
       "      <td>0.982184</td>\n",
       "      <td>0.176437</td>\n",
       "      <td>-0.440701</td>\n",
       "      <td>0.494010</td>\n",
       "      <td>0.045077</td>\n",
       "    </tr>\n",
       "  </tbody>\n",
       "</table>\n",
       "</div>"
      ],
      "text/plain": [
       "  Start Tenor        FS        DF     alpha       rho        nu       CMS\n",
       "0  0.5Y   10Y  0.037845  0.998752  0.171130 -0.264831  0.777658  0.037936\n",
       "1    1Y   10Y  0.038428  0.997009  0.171130 -0.264831  0.777658  0.038626\n",
       "2  1.5Y   10Y  0.039020  0.995270  0.171793 -0.286815  0.742202  0.039338\n",
       "3    2Y   10Y  0.039634  0.993531  0.172457 -0.308799  0.706746  0.040086\n",
       "4  2.5Y   10Y  0.040200  0.991773  0.173120 -0.330782  0.671290  0.040795\n",
       "5    3Y   10Y  0.040788  0.990015  0.173784 -0.352766  0.635834  0.041535\n",
       "6  3.5Y   10Y  0.041412  0.988066  0.174447 -0.374750  0.600378  0.042319\n",
       "7    4Y   10Y  0.042062  0.986117  0.175110 -0.396734  0.564922  0.043137\n",
       "8  4.5Y   10Y  0.042831  0.984150  0.175774 -0.418717  0.529466  0.044086\n",
       "9    5Y   10Y  0.043634  0.982184  0.176437 -0.440701  0.494010  0.045077"
      ]
     },
     "execution_count": 20,
     "metadata": {},
     "output_type": "execute_result"
    }
   ],
   "source": [
    "data"
   ]
  },
  {
   "cell_type": "code",
   "execution_count": 21,
   "metadata": {},
   "outputs": [],
   "source": [
    "F = data.loc[9, 'FS']\n",
    "D = data.loc[9, 'DF']\n",
    "alpha = data.loc[9, 'alpha']\n",
    "beta = 0.9\n",
    "rho = data.loc[9, 'rho']\n",
    "nu = data.loc[9, 'nu']\n",
    "sigmasabr = SABR(F, 0.0016, 5, alpha, beta, rho, nu)"
   ]
  },
  {
   "cell_type": "markdown",
   "metadata": {},
   "source": [
    "## 1. PV of CMS rate payoff "
   ]
  },
  {
   "cell_type": "code",
   "execution_count": 22,
   "metadata": {},
   "outputs": [],
   "source": [
    "term1 = F ** (1/4) - 0.2\n",
    "term3 = quad(lambda x: integral1(x, 15, 2, F, IRR(F, 15, 2), sigmasabr, 5), 0, F)\n",
    "term4 = quad(lambda x: integral2(x, 15, 2, F, IRR(F, 15, 2), sigmasabr, 5), F, np.inf)\n",
    "PVoption = (term1 + np.sum(term3 + term4)) * D"
   ]
  },
  {
   "cell_type": "code",
   "execution_count": 23,
   "metadata": {},
   "outputs": [
    {
     "data": {
      "text/plain": [
       "0.24302426535871355"
      ]
     },
     "execution_count": 23,
     "metadata": {},
     "output_type": "execute_result"
    }
   ],
   "source": [
    "PVoption"
   ]
  },
  {
   "cell_type": "markdown",
   "metadata": {},
   "source": [
    "## 2. PV of CMS caplet payoff "
   ]
  },
  {
   "cell_type": "code",
   "execution_count": 24,
   "metadata": {},
   "outputs": [],
   "source": [
    "term5 = hf(0.0016, 15, 2) * Black76Call(F, 0.0016, IRR(F, 15, 2), sigmasabr, 5)\n",
    "term6 = quad(lambda x: integral2(x, 15, 2, F, IRR(F, 15, 2), sigmasabr, 5), 0.0016, np.inf)\n",
    "PVoption2 = (term5 + np.sum(term6)) * D"
   ]
  },
  {
   "cell_type": "code",
   "execution_count": 25,
   "metadata": {},
   "outputs": [
    {
     "data": {
      "text/plain": [
       "0.24655202638374044"
      ]
     },
     "execution_count": 25,
     "metadata": {},
     "output_type": "execute_result"
    }
   ],
   "source": [
    "PVoption2"
   ]
  },
  {
   "cell_type": "code",
   "execution_count": 26,
   "metadata": {},
   "outputs": [],
   "source": [
    "#exit()"
   ]
  }
 ],
 "metadata": {
  "kernelspec": {
   "display_name": "Python 3",
   "language": "python",
   "name": "python3"
  },
  "language_info": {
   "codemirror_mode": {
    "name": "ipython",
    "version": 3
   },
   "file_extension": ".py",
   "mimetype": "text/x-python",
   "name": "python",
   "nbconvert_exporter": "python",
   "pygments_lexer": "ipython3",
   "version": "3.8.3"
  }
 },
 "nbformat": 4,
 "nbformat_minor": 4
}
