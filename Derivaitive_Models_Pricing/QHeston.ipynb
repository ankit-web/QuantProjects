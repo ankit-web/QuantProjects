{
 "cells": [
  {
   "cell_type": "markdown",
   "metadata": {},
   "source": [
    "# Heston Model"
   ]
  },
  {
   "cell_type": "code",
   "execution_count": null,
   "metadata": {},
   "outputs": [],
   "source": [
    "import numpy as np\n",
    "import matplotlib.pyplot as plt\n",
    "import heston as hes"
   ]
  },
  {
   "cell_type": "code",
   "execution_count": null,
   "metadata": {},
   "outputs": [],
   "source": [
    "from financepy.finutils import *\n",
    "from financepy.market.curves import *\n",
    "from financepy.products.equity import *\n",
    "\n",
    "import ipywidgets as widgets\n",
    "from IPython.display import display\n",
    "from ipywidgets import interact, interact_manual"
   ]
  },
  {
   "cell_type": "code",
   "execution_count": null,
   "metadata": {},
   "outputs": [],
   "source": [
    "def implied_vol(valueDate, expiryDate, stockPrice, strike, interestRate, dividendYield, call_price):\n",
    "    discountCurve = FinDiscountCurveFlat(valueDate, interestRate, FinFrequencyTypes.CONTINUOUS)\n",
    "    callOption = FinEquityVanillaOption(expiryDate, strike, FinOptionTypes.EUROPEAN_CALL)\n",
    "    return callOption.impliedVolatility(valueDate, stockPrice, discountCurve, dividendYield, call_price)"
   ]
  },
  {
   "cell_type": "markdown",
   "metadata": {},
   "source": [
    "### Market Data"
   ]
  },
  {
   "cell_type": "code",
   "execution_count": null,
   "metadata": {},
   "outputs": [],
   "source": [
    "stockPrice = 100\n",
    "t = 1.0\n",
    "valueDate = FinDate(1, 9, 2020)\n",
    "expiryDate = valueDate.addYears(t)\n",
    "strikes = np.linspace(80, 120, 11)\n",
    "r, d = 0, 0\n",
    "alpha = 0.75  # carr-madan damping factor"
   ]
  },
  {
   "cell_type": "markdown",
   "metadata": {},
   "source": [
    "### Call option with Black model using Carr Madan Fourier method"
   ]
  },
  {
   "cell_type": "code",
   "execution_count": null,
   "metadata": {},
   "outputs": [],
   "source": [
    "@interact\n",
    "def plot_Black_using_Fourier(vol = (0.02, 0.5, 0.02)):     # the volatility at time 0, NOT variance                             \n",
    "    prices = [hes.carr_madan_black_call_option(stockPrice, vol, t, k, alpha) for k in strikes]      \n",
    "    vols = [implied_vol(valueDate, expiryDate, stockPrice, k, r, d, p) for (k, p) in zip(strikes, prices)]       \n",
    "    plt.plot(strikes, vols); \n",
    "    plt.ylim((min(vols)*0.9, max(vols)*1.1))\n",
    "    plt.title(\"Black\"); plt.xlabel(\"Strike\"); plt.ylabel(\"Black Volatility\"); plt.grid()"
   ]
  },
  {
   "cell_type": "markdown",
   "metadata": {},
   "source": [
    "### Call option with Heston model using Carr Madan Fourier method"
   ]
  },
  {
   "cell_type": "code",
   "execution_count": null,
   "metadata": {},
   "outputs": [],
   "source": [
    "@interact\n",
    "def plot_Heston(vol_0 = (0.1, 0.9, 0.1),      # the volatility at time 0, NOT variance\n",
    "                kappa = (0.01, 0.05, 0.01),   # mean reversion rate\n",
    "                nu = (0.1, 1.0, 0.1),         # mean reversion level\n",
    "                lam = (0.1, 2, 0.1),        # vol of variance\n",
    "                rho = (-1, 0.5, 0.1)):          # correlation between the variance and the underlying               \n",
    "    \n",
    "    prices = [hes.carr_madan_heston_call_option(stockPrice, vol_0, kappa, nu, lam, rho, t, k, alpha) for k in strikes]  \n",
    "    vols = [implied_vol(valueDate, expiryDate, stockPrice, k, r, d, p) for (k, p) in zip(strikes, prices)]       \n",
    "    plt.plot(strikes, vols); \n",
    "    plt.ylim((min(vols)*0.9, max(vols)*1.1))\n",
    "    plt.title(\"Heston\"); plt.xlabel(\"Strike\"); plt.ylabel(\"Black Volatility\"); plt.grid()"
   ]
  },
  {
   "cell_type": "code",
   "execution_count": null,
   "metadata": {},
   "outputs": [],
   "source": []
  }
 ],
 "metadata": {
  "kernelspec": {
   "display_name": "Python 3",
   "language": "python",
   "name": "python3"
  },
  "language_info": {
   "codemirror_mode": {
    "name": "ipython",
    "version": 3
   },
   "file_extension": ".py",
   "mimetype": "text/x-python",
   "name": "python",
   "nbconvert_exporter": "python",
   "pygments_lexer": "ipython3",
   "version": "3.7.3"
  }
 },
 "nbformat": 4,
 "nbformat_minor": 4
}
