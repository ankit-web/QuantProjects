{
 "cells": [
  {
   "cell_type": "code",
   "execution_count": 1,
   "metadata": {},
   "outputs": [
    {
     "name": "stdout",
     "output_type": "stream",
     "text": [
      "####################################################################\n",
      "# FINANCEPY BETA Version 0.180 - This build:  23 Sep 2020 at 01:20 #\n",
      "#      This software is distributed FREE & WITHOUT ANY WARRANTY    #\n",
      "# For info and disclaimer - https://github.com/domokane/FinancePy  #\n",
      "#    For bug reports and comments - allmypythonprojects@gmail.com  #\n",
      "####################################################################\n",
      "\n"
     ]
    }
   ],
   "source": [
    "import numpy as np\n",
    "import matplotlib.pyplot as plt\n",
    "from financepy.finutils import *\n",
    "from financepy.market.curves import *\n",
    "from financepy.products.equity import *"
   ]
  },
  {
   "cell_type": "markdown",
   "metadata": {},
   "source": [
    "### Market Data"
   ]
  },
  {
   "cell_type": "code",
   "execution_count": 2,
   "metadata": {},
   "outputs": [
    {
     "name": "stdout",
     "output_type": "stream",
     "text": [
      "2.0599739838503126\n"
     ]
    }
   ],
   "source": [
    "stockPrice = 100\n",
    "valueDate = FinDate(1, 9, 2020)\n",
    "expiryDate = valueDate.addYears(1.0)\n",
    "dividendYield = 0.00\n",
    "interestRate = 0.00\n",
    "\n",
    "K1 = 100\n",
    "K2 = 105\n",
    "vol_K1 = 0.20\n",
    "vol_K2 = 0.20\n",
    "\n",
    "discountCurve = FinDiscountCurveFlat(valueDate, interestRate, FinFrequencyTypes.CONTINUOUS)\n",
    "\n",
    "callOptionK1 = FinEquityVanillaOption(expiryDate, K1, FinOptionTypes.EUROPEAN_CALL)\n",
    "callOptionK2 = FinEquityVanillaOption(expiryDate, K2, FinOptionTypes.EUROPEAN_CALL)\n",
    "\n",
    "model_vol_K1 = FinEquityModelBlackScholes(vol_K1)\n",
    "model_vol_K2 = FinEquityModelBlackScholes(vol_K2)    \n",
    "\n",
    "price_K1 = callOptionK1.value(valueDate, stockPrice, discountCurve, dividendYield, model_vol_K1)\n",
    "price_K2 = callOptionK2.value(valueDate, stockPrice, discountCurve, dividendYield, model_vol_K2)\n",
    "\n",
    "call_spread = price_K1 - price_K2\n",
    "\n",
    "print(call_spread)"
   ]
  },
  {
   "cell_type": "markdown",
   "metadata": {},
   "source": [
    "### Find the max vol that we can have at K2 when vol at K1 is 20%"
   ]
  },
  {
   "cell_type": "code",
   "execution_count": 3,
   "metadata": {},
   "outputs": [
    {
     "name": "stdout",
     "output_type": "stream",
     "text": [
      "0.25192770245866236\n"
     ]
    }
   ],
   "source": [
    "max_vol_K2 = callOptionK2.impliedVolatility(valueDate, stockPrice, discountCurve, dividendYield, price_K1)\n",
    "print(max_vol_K2)"
   ]
  },
  {
   "cell_type": "markdown",
   "metadata": {},
   "source": [
    "### Check if the value of the call spread is equal to 0 using vol(K2) = 0.25192770245866236"
   ]
  },
  {
   "cell_type": "code",
   "execution_count": 4,
   "metadata": {},
   "outputs": [
    {
     "name": "stdout",
     "output_type": "stream",
     "text": [
      "0.0\n"
     ]
    }
   ],
   "source": [
    "model_max_vol_K2 = FinEquityModelBlackScholes(max_vol_K2) \n",
    "\n",
    "price_K2_max_vol = callOptionK2.value(valueDate, stockPrice, discountCurve, dividendYield, model_max_vol_K2)\n",
    "\n",
    "call_spread_price_smile = price_K1 - price_K2_max_vol\n",
    "print(call_spread_price_smile)"
   ]
  }
 ],
 "metadata": {
  "kernelspec": {
   "display_name": "Python 3",
   "language": "python",
   "name": "python3"
  },
  "language_info": {
   "codemirror_mode": {
    "name": "ipython",
    "version": 3
   },
   "file_extension": ".py",
   "mimetype": "text/x-python",
   "name": "python",
   "nbconvert_exporter": "python",
   "pygments_lexer": "ipython3",
   "version": "3.7.6"
  }
 },
 "nbformat": 4,
 "nbformat_minor": 2
}
