{
 "cells": [
  {
   "cell_type": "code",
   "execution_count": null,
   "metadata": {},
   "outputs": [],
   "source": [
    "import numpy as np\n",
    "import pandas as pd\n",
    "import matplotlib.pyplot as plt   \n",
    "from financepy.finutils import *\n",
    "from financepy.market.curves import *\n",
    "from financepy.products.equity import *\n",
    "\n",
    "import ipywidgets as widgets\n",
    "from IPython.display import display\n",
    "from ipywidgets import interact\n",
    "\n",
    "import warnings\n",
    "warnings.filterwarnings('ignore')"
   ]
  },
  {
   "cell_type": "markdown",
   "metadata": {},
   "source": [
    "### Setting up"
   ]
  },
  {
   "cell_type": "code",
   "execution_count": null,
   "metadata": {},
   "outputs": [],
   "source": [
    "valueDate = FinDate(1, 9, 2020)\n",
    "T = 1\n",
    "sq_T = np.sqrt(T)\n",
    "expiryDate = valueDate.addYears(T)\n",
    "\n",
    "stockPrice = 10\n",
    "dividendYield = 0.00\n",
    "interestRate = 0.00\n",
    "discountCurve = FinDiscountCurveFlat(valueDate, interestRate, FinFrequencyTypes.CONTINUOUS)\n",
    "\n",
    "volatility = 0.20\n",
    "model = FinEquityModelBlackScholes(volatility)\n",
    "\n",
    "v_sq_T = volatility*volatility*T\n",
    "\n",
    "### close form solution for E[S^2]\n",
    "closed_form = stockPrice*stockPrice*np.exp(v_sq_T)\n",
    "print(closed_form)"
   ]
  },
  {
   "cell_type": "markdown",
   "metadata": {},
   "source": [
    "### How to choose the upper and lower bounds"
   ]
  },
  {
   "cell_type": "code",
   "execution_count": null,
   "metadata": {},
   "outputs": [],
   "source": [
    "num_std = 5\n",
    "upper_bound = stockPrice * np.exp(-0.5*v_sq_T + volatility*sq_T*num_std)\n",
    "lower_bound = stockPrice * np.exp(-0.5*v_sq_T + volatility*sq_T*-num_std)\n",
    "\n",
    "print(upper_bound)\n",
    "print(lower_bound)"
   ]
  },
  {
   "cell_type": "code",
   "execution_count": null,
   "metadata": {},
   "outputs": [],
   "source": [
    "def BL(stockPrice, max_k, num_ks):\n",
    "    \n",
    "    ks = np.linspace(1, max_k, num_ks)\n",
    "    \n",
    "    x = stockPrice\n",
    "    greater_than_x = ks > x\n",
    "\n",
    "    put_ks = ks[~greater_than_x]\n",
    "    call_ks = ks[greater_than_x]    \n",
    "    diff = call_ks[0] - put_ks[-1]\n",
    "    \n",
    "    dk_put = np.diff(put_ks)\n",
    "    dk_put = np.append(dk_put, diff)  \n",
    "    dk_call = np.diff(call_ks)\n",
    "\n",
    "    # Create the objects for all put and call options\n",
    "    putOptions = [FinEquityVanillaOption(expiryDate, k, FinOptionTypes.EUROPEAN_PUT) for k in put_ks]\n",
    "    callOptions = [FinEquityVanillaOption(expiryDate, k, FinOptionTypes.EUROPEAN_CALL) for k in call_ks[:-1]]\n",
    "\n",
    "    # Compute all the put and call option prices\n",
    "    put_prices = [putOption.value(valueDate, stockPrice, discountCurve, dividendYield, model) for putOption in putOptions]\n",
    "    call_prices = [callOption.value(valueDate, stockPrice, discountCurve, dividendYield, model) for callOption in callOptions]\n",
    "\n",
    "    # Using the Breeden-Liztenberger Formula\n",
    "    put_component = [put_prices[i] * dk for i, dk in enumerate(dk_put)]\n",
    "    call_component = [call_prices[i] * dk for i, dk in enumerate(dk_call)]\n",
    "    final_value = stockPrice*stockPrice + 2 * sum(put_component) + 2 * sum(call_component)\n",
    "    \n",
    "    return final_value"
   ]
  },
  {
   "cell_type": "code",
   "execution_count": null,
   "metadata": {},
   "outputs": [],
   "source": [
    "@interact\n",
    "def plot_BL_changing_max_k(num_k = (20, 100, 1)):    \n",
    "    max_ks = np.linspace(15, 30, 10)    \n",
    "    values = [BL(stockPrice, max_k, num_k) for max_k in max_ks]\n",
    "    \n",
    "    plt.plot(max_ks, values)   \n",
    "    \n",
    "    plt.axhline(closed_form, color='red')\n",
    "    plt.ylim((closed_form*0.999, closed_form*1.001))\n",
    "    plt.title(\"num_k = \" + str(num_k)); plt.xlabel(\"max_k\"); plt.ylabel(\"BL approximation\"); plt.grid()"
   ]
  },
  {
   "cell_type": "code",
   "execution_count": null,
   "metadata": {},
   "outputs": [],
   "source": [
    "@interact\n",
    "def plot_BL_changing_num_k(max_k = (15, 50, 5)):    \n",
    "    num_ks = np.linspace(20, 100, 10)    \n",
    "    values = [BL(stockPrice, max_k, num_k) for num_k in num_ks]    \n",
    "    plt.plot(num_ks, values)       \n",
    "    plt.axhline(closed_form, color='red')\n",
    "    plt.ylim((closed_form*0.999, closed_form*1.001))\n",
    "    plt.title(\"max_k = \" + str(max_k)); plt.xlabel(\"num_k\"); plt.ylabel(\"BL approximation\"); plt.grid()"
   ]
  },
  {
   "cell_type": "code",
   "execution_count": null,
   "metadata": {},
   "outputs": [],
   "source": []
  }
 ],
 "metadata": {
  "kernelspec": {
   "display_name": "Python 3",
   "language": "python",
   "name": "python3"
  },
  "language_info": {
   "codemirror_mode": {
    "name": "ipython",
    "version": 3
   },
   "file_extension": ".py",
   "mimetype": "text/x-python",
   "name": "python",
   "nbconvert_exporter": "python",
   "pygments_lexer": "ipython3",
   "version": "3.7.3"
  }
 },
 "nbformat": 4,
 "nbformat_minor": 2
}
