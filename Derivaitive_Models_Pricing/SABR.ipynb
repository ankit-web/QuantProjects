{
 "cells": [
  {
   "cell_type": "markdown",
   "metadata": {},
   "source": [
    "# SABR Model"
   ]
  },
  {
   "cell_type": "code",
   "execution_count": 1,
   "metadata": {},
   "outputs": [],
   "source": [
    "import numpy as np\n",
    "import matplotlib.pyplot as plt"
   ]
  },
  {
   "cell_type": "code",
   "execution_count": 2,
   "metadata": {},
   "outputs": [
    {
     "name": "stdout",
     "output_type": "stream",
     "text": [
      "####################################################################\n",
      "# FINANCEPY BETA Version 0.191 - This build:  31 Dec 2020 at 11:48 #\n",
      "#      This software is distributed FREE & WITHOUT ANY WARRANTY    #\n",
      "# For info and disclaimer - https://github.com/domokane/FinancePy  #\n",
      "#      Send any bug reports or comments to quant@financepy.com     #\n",
      "####################################################################\n",
      "\n"
     ]
    }
   ],
   "source": [
    "from financepy.finutils import *\n",
    "from financepy.models.FinModelSABR import *\n",
    "\n",
    "import ipywidgets as widgets\n",
    "from IPython.display import display\n",
    "from ipywidgets import interact, interact_manual"
   ]
  },
  {
   "cell_type": "markdown",
   "metadata": {},
   "source": [
    "### Do not adjust $\\alpha_0$ when changing beta, note the the ATMvol will change for different $\\beta$"
   ]
  },
  {
   "cell_type": "code",
   "execution_count": 3,
   "metadata": {},
   "outputs": [],
   "source": [
    "f = 10\n",
    "strikes = np.linspace(1, 20, 20)\n",
    "t = 1"
   ]
  },
  {
   "cell_type": "code",
   "execution_count": 4,
   "metadata": {},
   "outputs": [
    {
     "data": {
      "application/vnd.jupyter.widget-view+json": {
       "model_id": "4dad1c911a1e4558b9ae38fb68dc82f5",
       "version_major": 2,
       "version_minor": 0
      },
      "text/plain": [
       "interactive(children=(FloatSlider(value=0.5, description='alpha0', max=1.0, min=0.1), FloatSlider(value=0.0, d…"
      ]
     },
     "metadata": {},
     "output_type": "display_data"
    }
   ],
   "source": [
    "@interact\n",
    "def plot_SABR(alpha0 = (0.1, 1, 0.1), beta = (-1, 1, 0.1), rho = (-0.999, 0.999, 0.1), nu = (0.001, 2, 0.2),\n",
    "              ymax = (0.2, 1, 0.1)):\n",
    "    \n",
    "    model = FinModelSABR(alpha0, beta, rho, nu)\n",
    "    volsSABR = model.blackVol(f, strikes, t)\n",
    "    plt.plot(strikes, volsSABR); \n",
    "    plt.ylim((0, ymax))\n",
    "    plt.title(\"SABR\"); plt.xlabel(\"Strike\"); plt.ylabel(\"Black Volatility\"); plt.grid()"
   ]
  },
  {
   "cell_type": "markdown",
   "metadata": {},
   "source": [
    "### Adjust $\\alpha_0$ when changing beta such that we have approximately the same ATM vol"
   ]
  },
  {
   "cell_type": "code",
   "execution_count": 5,
   "metadata": {},
   "outputs": [
    {
     "data": {
      "application/vnd.jupyter.widget-view+json": {
       "model_id": "1765232148c34a128da12d0b5788d6e4",
       "version_major": 2,
       "version_minor": 0
      },
      "text/plain": [
       "interactive(children=(FloatSlider(value=0.0, description='beta', max=1.0, min=-1.0), FloatSlider(value=-0.0989…"
      ]
     },
     "metadata": {},
     "output_type": "display_data"
    }
   ],
   "source": [
    "ATMvol = 0.2\n",
    "\n",
    "@interact\n",
    "def plot_SABR(beta = (-1, 1, 0.1), rho = (-0.999, 0.999, 0.1), nu = (0.001, 2, 0.2),\n",
    "              ymax = (0.2, 1, 0.1)):\n",
    "\n",
    "    alpha0 = ATMvol * f**(1-beta) #this is only an approximation to get the same ATMvol for different beta\n",
    "    model = FinModelSABR(alpha0, beta, rho, nu)\n",
    "    volsSABR = model.blackVol(f, strikes, t)\n",
    "    plt.plot(strikes, volsSABR); \n",
    "    plt.ylim((0, ymax))\n",
    "    plt.title(\"SABR\"); plt.xlabel(\"Strike\"); plt.ylabel(\"Black Volatility\"); plt.grid()"
   ]
  },
  {
   "cell_type": "code",
   "execution_count": null,
   "metadata": {},
   "outputs": [],
   "source": []
  },
  {
   "cell_type": "code",
   "execution_count": null,
   "metadata": {},
   "outputs": [],
   "source": []
  }
 ],
 "metadata": {
  "kernelspec": {
   "display_name": "Python 3",
   "language": "python",
   "name": "python3"
  },
  "language_info": {
   "codemirror_mode": {
    "name": "ipython",
    "version": 3
   },
   "file_extension": ".py",
   "mimetype": "text/x-python",
   "name": "python",
   "nbconvert_exporter": "python",
   "pygments_lexer": "ipython3",
   "version": "3.7.6"
  }
 },
 "nbformat": 4,
 "nbformat_minor": 4
}
