{
 "cells": [
  {
   "cell_type": "code",
   "execution_count": 1,
   "metadata": {},
   "outputs": [
    {
     "name": "stdout",
     "output_type": "stream",
     "text": [
      "####################################################################\n",
      "# FINANCEPY BETA Version 0.191 - This build:  31 Dec 2020 at 11:48 #\n",
      "#      This software is distributed FREE & WITHOUT ANY WARRANTY    #\n",
      "# For info and disclaimer - https://github.com/domokane/FinancePy  #\n",
      "#      Send any bug reports or comments to quant@financepy.com     #\n",
      "####################################################################\n",
      "\n"
     ]
    }
   ],
   "source": [
    "import numpy as np\n",
    "import pandas as pd\n",
    "import matplotlib.pyplot as plt   \n",
    "from financepy.finutils import *\n",
    "from financepy.market.curves import *\n",
    "from financepy.products.equity import *"
   ]
  },
  {
   "cell_type": "markdown",
   "metadata": {},
   "source": [
    "### Payoff and Market data"
   ]
  },
  {
   "cell_type": "code",
   "execution_count": 2,
   "metadata": {},
   "outputs": [
    {
     "ename": "NameError",
     "evalue": "name 'FinEquityModelBlackScholes' is not defined",
     "output_type": "error",
     "traceback": [
      "\u001b[0;31m---------------------------------------------------------------------------\u001b[0m",
      "\u001b[0;31mNameError\u001b[0m                                 Traceback (most recent call last)",
      "\u001b[0;32m<ipython-input-2-c16aaca19978>\u001b[0m in \u001b[0;36m<module>\u001b[0;34m\u001b[0m\n\u001b[1;32m      8\u001b[0m \u001b[0minterestRate\u001b[0m \u001b[0;34m=\u001b[0m \u001b[0;36m0.00\u001b[0m\u001b[0;34m\u001b[0m\u001b[0;34m\u001b[0m\u001b[0m\n\u001b[1;32m      9\u001b[0m \u001b[0mvolatility\u001b[0m \u001b[0;34m=\u001b[0m \u001b[0;36m0.185\u001b[0m\u001b[0;34m\u001b[0m\u001b[0;34m\u001b[0m\u001b[0m\n\u001b[0;32m---> 10\u001b[0;31m \u001b[0mmodel\u001b[0m \u001b[0;34m=\u001b[0m \u001b[0mFinEquityModelBlackScholes\u001b[0m\u001b[0;34m(\u001b[0m\u001b[0mvolatility\u001b[0m\u001b[0;34m)\u001b[0m\u001b[0;34m\u001b[0m\u001b[0;34m\u001b[0m\u001b[0m\n\u001b[0m",
      "\u001b[0;31mNameError\u001b[0m: name 'FinEquityModelBlackScholes' is not defined"
     ]
    }
   ],
   "source": [
    "valueDate = FinDate(1, 9, 2020)\n",
    "expiryDate = valueDate.addYears(1)\n",
    "strikePrice = 100\n",
    "callOption = FinEquityVanillaOption(expiryDate, strikePrice, FinOptionTypes.EUROPEAN_CALL)\n",
    "\n",
    "stockPrice = 100\n",
    "dividendYield = 0.00\n",
    "interestRate = 0.00\n",
    "volatility = 0.185\n",
    "model = FinEquityModelBlackScholes(volatility)"
   ]
  },
  {
   "cell_type": "code",
   "execution_count": 3,
   "metadata": {},
   "outputs": [
    {
     "name": "stdout",
     "output_type": "stream",
     "text": [
      "[0.         0.1901008  0.18822786 0.18822786 0.1901008  0.1901008\n",
      " 0.1901008  0.1901008  0.1901008  0.1901008 ]\n"
     ]
    }
   ],
   "source": [
    "num_time_steps = 10\n",
    "\n",
    "# a simulated path for the first 10 time steps including today\n",
    "spot = [stockPrice, 108, 104, 102, 104, 106, 98, 90, 89, 100]\n",
    "\n",
    "spot = [stockPrice, 101, 102, 101, 100, 101, 100, 101, 100, 101]\n",
    "\n",
    "realized_vol = np.zeros(num_time_steps)\n",
    "\n",
    "dt = 1.0/365\n",
    "\n",
    "for i in range(1, num_time_steps):   \n",
    "    realized_vol[i] = np.sqrt( np.log(spot[i]/spot[i-1])**2 / dt )\n",
    "    \n",
    "print(realized_vol)"
   ]
  },
  {
   "cell_type": "code",
   "execution_count": 4,
   "metadata": {},
   "outputs": [
    {
     "ename": "NameError",
     "evalue": "name 'model' is not defined",
     "output_type": "error",
     "traceback": [
      "\u001b[0;31m---------------------------------------------------------------------------\u001b[0m",
      "\u001b[0;31mNameError\u001b[0m                                 Traceback (most recent call last)",
      "\u001b[0;32m<ipython-input-4-d732ab4da858>\u001b[0m in \u001b[0;36m<module>\u001b[0;34m\u001b[0m\n\u001b[1;32m     10\u001b[0m \u001b[0;34m\u001b[0m\u001b[0m\n\u001b[1;32m     11\u001b[0m     \u001b[0mdiscountCurve\u001b[0m \u001b[0;34m=\u001b[0m \u001b[0mFinDiscountCurveFlat\u001b[0m\u001b[0;34m(\u001b[0m\u001b[0mcurrentDate\u001b[0m\u001b[0;34m,\u001b[0m \u001b[0minterestRate\u001b[0m\u001b[0;34m,\u001b[0m \u001b[0mFinFrequencyTypes\u001b[0m\u001b[0;34m.\u001b[0m\u001b[0mCONTINUOUS\u001b[0m\u001b[0;34m)\u001b[0m\u001b[0;34m\u001b[0m\u001b[0;34m\u001b[0m\u001b[0m\n\u001b[0;32m---> 12\u001b[0;31m     \u001b[0moption_price\u001b[0m\u001b[0;34m[\u001b[0m\u001b[0mi\u001b[0m\u001b[0;34m]\u001b[0m \u001b[0;34m=\u001b[0m \u001b[0mcallOption\u001b[0m\u001b[0;34m.\u001b[0m\u001b[0mvalue\u001b[0m\u001b[0;34m(\u001b[0m\u001b[0mcurrentDate\u001b[0m\u001b[0;34m,\u001b[0m \u001b[0mspot\u001b[0m\u001b[0;34m[\u001b[0m\u001b[0mi\u001b[0m\u001b[0;34m]\u001b[0m\u001b[0;34m,\u001b[0m \u001b[0mdiscountCurve\u001b[0m\u001b[0;34m,\u001b[0m \u001b[0mdividendYield\u001b[0m\u001b[0;34m,\u001b[0m \u001b[0mmodel\u001b[0m\u001b[0;34m)\u001b[0m\u001b[0;34m\u001b[0m\u001b[0;34m\u001b[0m\u001b[0m\n\u001b[0m\u001b[1;32m     13\u001b[0m     \u001b[0moption_delta\u001b[0m\u001b[0;34m[\u001b[0m\u001b[0mi\u001b[0m\u001b[0;34m]\u001b[0m \u001b[0;34m=\u001b[0m \u001b[0mcallOption\u001b[0m\u001b[0;34m.\u001b[0m\u001b[0mdelta\u001b[0m\u001b[0;34m(\u001b[0m\u001b[0mcurrentDate\u001b[0m\u001b[0;34m,\u001b[0m \u001b[0mspot\u001b[0m\u001b[0;34m[\u001b[0m\u001b[0mi\u001b[0m\u001b[0;34m]\u001b[0m\u001b[0;34m,\u001b[0m \u001b[0mdiscountCurve\u001b[0m\u001b[0;34m,\u001b[0m \u001b[0mdividendYield\u001b[0m\u001b[0;34m,\u001b[0m \u001b[0mmodel\u001b[0m\u001b[0;34m)\u001b[0m\u001b[0;34m\u001b[0m\u001b[0;34m\u001b[0m\u001b[0m\n\u001b[1;32m     14\u001b[0m \u001b[0;34m\u001b[0m\u001b[0m\n",
      "\u001b[0;31mNameError\u001b[0m: name 'model' is not defined"
     ]
    }
   ],
   "source": [
    "hedge_delta = np.zeros(num_time_steps)\n",
    "hedge_pnl = np.zeros(num_time_steps)\n",
    "\n",
    "option_price = np.zeros(num_time_steps)\n",
    "option_delta = np.zeros(num_time_steps)\n",
    "option_pnl = np.zeros(num_time_steps)\n",
    "\n",
    "for i in range(0, num_time_steps):\n",
    "    currentDate = valueDate.addDays(i)  \n",
    "    \n",
    "    discountCurve = FinDiscountCurveFlat(currentDate, interestRate, FinFrequencyTypes.CONTINUOUS)\n",
    "    option_price[i] = callOption.value(currentDate, spot[i], discountCurve, dividendYield, model)\n",
    "    option_delta[i] = callOption.delta(currentDate, spot[i], discountCurve, dividendYield, model)\n",
    "\n",
    "\n",
    "# compute the hedge portfolio delta and its change\n",
    "hedge_delta = pd.Series(-1 * option_delta)\n",
    "hedge_delta_change = hedge_delta.diff()\n",
    "hedge_delta_change[0] = -1 * option_delta[0]\n",
    "\n",
    "# compute the hedge portfolio pnl\n",
    "for i in range(1, num_time_steps):\n",
    "    hedge_pnl[i] = hedge_delta[i-1] * (spot[i] - spot[i-1])\n",
    "    \n",
    "# compute option pnl \n",
    "option_pnl[1:] = np.diff(option_price)\n",
    "\n",
    "df = pd.DataFrame(zip(spot, option_delta, option_pnl, hedge_delta_change, hedge_pnl, realized_vol), \n",
    "                  columns=['spot', 'option delta', 'option pnl', 'hedge delta change', 'hedge pnl', 'realized_vol'])\n",
    "\n",
    "df['option + hedge pnl'] = df['option pnl'] + df['hedge pnl']\n",
    "\n",
    "df['change in spot'] = df['spot'].diff()\n",
    "\n",
    "total_portfolio_pnl = df['option + hedge pnl'].sum() \n",
    "print(total_portfolio_pnl)"
   ]
  },
  {
   "cell_type": "code",
   "execution_count": 5,
   "metadata": {},
   "outputs": [
    {
     "ename": "NameError",
     "evalue": "name 'df' is not defined",
     "output_type": "error",
     "traceback": [
      "\u001b[0;31m---------------------------------------------------------------------------\u001b[0m",
      "\u001b[0;31mNameError\u001b[0m                                 Traceback (most recent call last)",
      "\u001b[0;32m<ipython-input-5-2a851eda2e88>\u001b[0m in \u001b[0;36m<module>\u001b[0;34m\u001b[0m\n\u001b[0;32m----> 1\u001b[0;31m \u001b[0mprint\u001b[0m\u001b[0;34m(\u001b[0m\u001b[0mdf\u001b[0m\u001b[0;34m)\u001b[0m\u001b[0;34m\u001b[0m\u001b[0;34m\u001b[0m\u001b[0m\n\u001b[0m",
      "\u001b[0;31mNameError\u001b[0m: name 'df' is not defined"
     ]
    }
   ],
   "source": [
    "print(df)"
   ]
  },
  {
   "cell_type": "code",
   "execution_count": null,
   "metadata": {},
   "outputs": [],
   "source": []
  }
 ],
 "metadata": {
  "kernelspec": {
   "display_name": "Python 3",
   "language": "python",
   "name": "python3"
  },
  "language_info": {
   "codemirror_mode": {
    "name": "ipython",
    "version": 3
   },
   "file_extension": ".py",
   "mimetype": "text/x-python",
   "name": "python",
   "nbconvert_exporter": "python",
   "pygments_lexer": "ipython3",
   "version": "3.7.6"
  }
 },
 "nbformat": 4,
 "nbformat_minor": 2
}
